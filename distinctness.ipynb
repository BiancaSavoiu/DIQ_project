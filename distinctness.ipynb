{
 "cells": [
  {
   "cell_type": "markdown",
   "source": [
    "# DISTINCTNESS"
   ],
   "metadata": {
    "collapsed": false
   },
   "id": "8d883a4e404d9ba0"
  },
  {
   "cell_type": "code",
   "outputs": [],
   "source": [
    "import random\n",
    "import warnings\n",
    "\n",
    "import numpy as np\n",
    "import pandas as pd\n",
    "\n",
    "from library.A_data_collection import make_dataset_for_regression\n",
    "from library.D_data_analysis import regression\n",
    "from library.my_functions import pollution_first_second_third_experiments, plot_results, pollution_fourth_experiment, \\\n",
    "    pollution_fifth_experiment, pollution_sixth_experiment, pollution_seventh_experiment, pollution_eighth_experiment, \\\n",
    "    pollution_ninth_tenth_experiments\n",
    "\n",
    "warnings.simplefilter(action='ignore', category=FutureWarning)\n",
    "warnings.simplefilter(action='ignore', category=Warning)\n",
    "\n",
    "SEED = 2023\n",
    "random.seed(SEED)\n",
    "np.random.seed(SEED)\n",
    "\n",
    "REGRESSION_ALGORITHMS = [\n",
    "    \"LinearRegressor\", \"BayesianRidge\", \"GPRegressor\", \"SVMRegressor\", \"KNNRegressor\",\n",
    "    \"MLPRegressor\"\n",
    "]"
   ],
   "metadata": {
    "collapsed": false
   },
   "id": "e8d05ef2387fb674"
  },
  {
   "cell_type": "markdown",
   "source": [
    "## Experiment 1. Distinctness - Mid-high distinctness"
   ],
   "metadata": {
    "collapsed": false
   },
   "id": "58fc1b4cb117b26f"
  },
  {
   "cell_type": "code",
   "outputs": [],
   "source": [
    "DESCRIPTION = 'Distinctness - Mid-high distinctness'\n",
    "X_LABEL = \"Percentage of not distinct values\"\n",
    "RESULTS_PER_ALGORITHM = []\n",
    "X_AXIS = [n * 0.05 for n in range(0, 11)]\n",
    "\n",
    "for algorithm in REGRESSION_ALGORITHMS:\n",
    "    RESULTS_ALGORITHM = []\n",
    "\n",
    "    for i in range(len(X_AXIS)):\n",
    "        X, y = make_dataset_for_regression(\n",
    "            n_samples=1000, n_features=3, n_informative=3, n_targets=1,\n",
    "            bias=0.0, effective_rank=None, tail_strength=0.5, noise=0.0, seed=2023\n",
    "        )\n",
    "        X = pd.DataFrame(X)\n",
    "        X = pollution_first_second_third_experiments(X, X_AXIS[i])\n",
    "        RESULTS_ALGORITHM.append(regression(X, y, algorithm, SEED))\n",
    "\n",
    "    RESULTS_PER_ALGORITHM.append(RESULTS_ALGORITHM)\n",
    "\n",
    "plot_results(\n",
    "    x_axis_values=X_AXIS, x_label=X_LABEL, results=RESULTS_PER_ALGORITHM, title=DESCRIPTION,\n",
    "    algorithms=REGRESSION_ALGORITHMS\n",
    ")"
   ],
   "metadata": {
    "collapsed": false
   },
   "id": "993f258efd0f7f27",
   "execution_count": 0
  },
  {
   "cell_type": "markdown",
   "source": [
    "## Experiment 2. Distinctness - Mid-low distinctness"
   ],
   "metadata": {
    "collapsed": false
   },
   "id": "eabeadbd829e962f"
  },
  {
   "cell_type": "code",
   "outputs": [],
   "source": [
    "DESCRIPTION = 'Distinctness - Mid-low distinctness'\n",
    "X_LABEL = \"Percentage of not distinct values\"\n",
    "RESULTS_PER_ALGORITHM = []\n",
    "X_AXIS = [n * 0.05 for n in range(10, 21)]\n",
    "\n",
    "for algorithm in REGRESSION_ALGORITHMS:\n",
    "    RESULTS_ALGORITHM = []\n",
    "\n",
    "    for i in range(len(X_AXIS)):\n",
    "        X, y = make_dataset_for_regression(\n",
    "            n_samples=1000, n_features=3, n_informative=3, n_targets=1,\n",
    "            bias=0.0, effective_rank=None, tail_strength=0.5, noise=0.0, seed=2023\n",
    "        )\n",
    "        X = pd.DataFrame(X)\n",
    "        X = pollution_first_second_third_experiments(X, X_AXIS[i])\n",
    "        RESULTS_ALGORITHM.append(regression(X, y, algorithm, SEED))\n",
    "\n",
    "    RESULTS_PER_ALGORITHM.append(RESULTS_ALGORITHM)\n",
    "\n",
    "plot_results(\n",
    "    x_axis_values=X_AXIS, x_label=X_LABEL, results=RESULTS_PER_ALGORITHM, title=DESCRIPTION,\n",
    "    algorithms=REGRESSION_ALGORITHMS\n",
    ")"
   ],
   "metadata": {
    "collapsed": false
   },
   "id": "a2dfc97a46bad9ee",
   "execution_count": 0
  },
  {
   "cell_type": "markdown",
   "source": [
    "## Experiment 3. Fixed Distinctness of Different Datasets"
   ],
   "metadata": {
    "collapsed": false
   },
   "id": "6e674ad7d6f3dab8"
  },
  {
   "cell_type": "code",
   "outputs": [],
   "source": [
    "DESCRIPTION = 'Distinctness - Fixed Distinctness of Different Datasets'\n",
    "X_LABEL = \"Number of Samples\"\n",
    "RESULTS_PER_ALGORITHM = []\n",
    "X_AXIS = [n * 100 + 1000 for n in range(0, 11)]\n",
    "\n",
    "for algorithm in REGRESSION_ALGORITHMS:\n",
    "    RESULTS_ALGORITHM = []\n",
    "\n",
    "    for i in range(len(X_AXIS)):\n",
    "        X, y = make_dataset_for_regression(\n",
    "            n_samples=X_AXIS[i], n_features=3, n_informative=3, n_targets=1,\n",
    "            bias=0.0, effective_rank=None, tail_strength=0.5, noise=0.0, seed=2023\n",
    "        )\n",
    "        X = pd.DataFrame(X)\n",
    "        X = pollution_first_second_third_experiments(X, 0.2)\n",
    "        RESULTS_ALGORITHM.append(regression(X, y, algorithm, SEED))\n",
    "\n",
    "    RESULTS_PER_ALGORITHM.append(RESULTS_ALGORITHM)\n",
    "\n",
    "plot_results(\n",
    "    x_axis_values=X_AXIS, x_label=X_LABEL, results=RESULTS_PER_ALGORITHM, title=DESCRIPTION,\n",
    "    algorithms=REGRESSION_ALGORITHMS\n",
    ")"
   ],
   "metadata": {
    "collapsed": false
   },
   "id": "4255f2530d2dbb2f",
   "execution_count": 0
  },
  {
   "cell_type": "markdown",
   "source": [
    "## Experiment 4. Distinctness - Different percentages among features"
   ],
   "metadata": {
    "collapsed": false
   },
   "id": "f6c54a43a618770c"
  },
  {
   "cell_type": "code",
   "outputs": [],
   "source": [
    "DESCRIPTION = 'Distinctness - Different percentages among features'\n",
    "X_LABEL = \"Percentage of not distinct values\"\n",
    "RESULTS_PER_ALGORITHM = []\n",
    "X_AXIS = [n * 0.05 for n in range(1, 11)]\n",
    "\n",
    "for algorithm in REGRESSION_ALGORITHMS:\n",
    "    RESULTS_ALGORITHM = []\n",
    "\n",
    "    for i in range(len(X_AXIS)):\n",
    "        X, y = make_dataset_for_regression(\n",
    "            n_samples=1000, n_features=9, n_informative=4, n_targets=1,\n",
    "            bias=0.0, effective_rank=None, tail_strength=0.5, noise=0.0, seed=2023\n",
    "        )\n",
    "        X = pd.DataFrame(X)\n",
    "        X = pollution_fourth_experiment(X, X_AXIS[i])\n",
    "        RESULTS_ALGORITHM.append(regression(X, y, algorithm, SEED))\n",
    "\n",
    "    RESULTS_PER_ALGORITHM.append(RESULTS_ALGORITHM)\n",
    "\n",
    "plot_results(\n",
    "    x_axis_values=X_AXIS, x_label=X_LABEL, results=RESULTS_PER_ALGORITHM, title=DESCRIPTION,\n",
    "    algorithms=REGRESSION_ALGORITHMS\n",
    ")"
   ],
   "metadata": {
    "collapsed": false
   },
   "id": "bb2598e939c9ee4d",
   "execution_count": 0
  },
  {
   "cell_type": "markdown",
   "source": [
    "## Experiment 5. Distinctness - Random noise"
   ],
   "metadata": {
    "collapsed": false
   },
   "id": "2dbc6dd55b55909e"
  },
  {
   "cell_type": "code",
   "outputs": [],
   "source": [
    "DESCRIPTION = 'Distinctness - Random noise'\n",
    "X_LABEL = \"Percentage of not distinct values\"\n",
    "RESULTS_PER_ALGORITHM = []\n",
    "X_AXIS = [n * 0.00625 for n in range(1, 11)]\n",
    "\n",
    "for algorithm in REGRESSION_ALGORITHMS:\n",
    "    RESULTS_ALGORITHM = []\n",
    "\n",
    "    for i in range(len(X_AXIS)):\n",
    "        X, y = make_dataset_for_regression(\n",
    "            n_samples=1000, n_features=3, n_informative=3, n_targets=1,\n",
    "            bias=0.0, effective_rank=None, tail_strength=0.5, noise=0.0, seed=2023\n",
    "        )\n",
    "        X = pd.DataFrame(X)\n",
    "        X = pollution_fifth_experiment(X, X_AXIS[i])\n",
    "        RESULTS_ALGORITHM.append(regression(X, y, algorithm, SEED))\n",
    "\n",
    "    RESULTS_PER_ALGORITHM.append(RESULTS_ALGORITHM)\n",
    "\n",
    "plot_results(\n",
    "    x_axis_values=X_AXIS, x_label=X_LABEL, results=RESULTS_PER_ALGORITHM, title=DESCRIPTION,\n",
    "    algorithms=REGRESSION_ALGORITHMS\n",
    ")"
   ],
   "metadata": {
    "collapsed": false
   },
   "id": "ccfdb7352f0ea15d",
   "execution_count": 0
  },
  {
   "cell_type": "markdown",
   "source": [
    "## Experiment 6. Distinctness - Categorical variables"
   ],
   "metadata": {
    "collapsed": false
   },
   "id": "5d7be48163a941ab"
  },
  {
   "cell_type": "code",
   "outputs": [],
   "source": [
    "DESCRIPTION = 'Distinctness - Categorical variables'\n",
    "X_LABEL = \"Number of categorical variables\"\n",
    "RESULTS_PER_ALGORITHM = []\n",
    "X_AXIS = [n for n in range(1, 11)]\n",
    "\n",
    "for algorithm in REGRESSION_ALGORITHMS:\n",
    "    RESULTS_ALGORITHM = []\n",
    "\n",
    "    for i in range(len(X_AXIS)):\n",
    "        X, y = make_dataset_for_regression(\n",
    "            n_samples=1000, n_features=3, n_informative=3, n_targets=1,\n",
    "            bias=0.0, effective_rank=None, tail_strength=0.5, noise=0.0, seed=2023\n",
    "        )\n",
    "        X = pd.DataFrame(X)\n",
    "        X = pollution_sixth_experiment(X, X_AXIS[i])\n",
    "        RESULTS_ALGORITHM.append(regression(X, y, algorithm, SEED))\n",
    "\n",
    "    RESULTS_PER_ALGORITHM.append(RESULTS_ALGORITHM)\n",
    "\n",
    "plot_results(\n",
    "    x_axis_values=X_AXIS, x_label=X_LABEL, results=RESULTS_PER_ALGORITHM, title=DESCRIPTION,\n",
    "    algorithms=REGRESSION_ALGORITHMS\n",
    ")"
   ],
   "metadata": {
    "collapsed": false
   },
   "id": "b541dd741d568a3e",
   "execution_count": 0
  },
  {
   "cell_type": "markdown",
   "source": [
    "## Experiment 7. Distinctness - Outliers"
   ],
   "metadata": {
    "collapsed": false
   },
   "id": "d463238bb13c57f"
  },
  {
   "cell_type": "code",
   "outputs": [],
   "source": [
    "DESCRIPTION = 'Distinctness - Outliers'\n",
    "X_LABEL = \"Percentage of outliers\"\n",
    "RESULTS_PER_ALGORITHM = []\n",
    "X_AXIS = [n * 0.0125 for n in range(1, 11)]\n",
    "\n",
    "for algorithm in REGRESSION_ALGORITHMS:\n",
    "    RESULTS_ALGORITHM = []\n",
    "\n",
    "    for i in range(len(X_AXIS)):\n",
    "        X, y = make_dataset_for_regression(\n",
    "            n_samples=1000, n_features=3, n_informative=3, n_targets=1,\n",
    "            bias=0.0, effective_rank=None, tail_strength=0.5, noise=0.0, seed=2023\n",
    "        )\n",
    "        X = pd.DataFrame(X)\n",
    "        X = pollution_seventh_experiment(X, X_AXIS[i])\n",
    "        RESULTS_ALGORITHM.append(regression(X, y, algorithm, SEED))\n",
    "\n",
    "    RESULTS_PER_ALGORITHM.append(RESULTS_ALGORITHM)\n",
    "\n",
    "plot_results(\n",
    "    x_axis_values=X_AXIS, x_label=X_LABEL, results=RESULTS_PER_ALGORITHM, title=DESCRIPTION,\n",
    "    algorithms=REGRESSION_ALGORITHMS\n",
    ")"
   ],
   "metadata": {
    "collapsed": false
   },
   "id": "8b030e477a605410",
   "execution_count": 0
  },
  {
   "cell_type": "markdown",
   "source": [
    "## Experiment 8. High and Low Distinctness Combined"
   ],
   "metadata": {
    "collapsed": false
   },
   "id": "4e7ab84f002b32b3"
  },
  {
   "cell_type": "code",
   "outputs": [],
   "source": [
    "DESCRIPTION = 'Distinctness - High and Low Distinctness Combined'\n",
    "X_LABEL = \"Percentage of outliers\"\n",
    "RESULTS_PER_ALGORITHM = []\n",
    "X_AXIS = [n * 0.05 for n in range(0, 11)]\n",
    "\n",
    "for algorithm in REGRESSION_ALGORITHMS:\n",
    "    RESULTS_ALGORITHM = []\n",
    "\n",
    "    for i in range(len(X_AXIS)):\n",
    "        X, y = make_dataset_for_regression(\n",
    "            n_samples=1000, n_features=3, n_informative=3, n_targets=1,\n",
    "            bias=0.0, effective_rank=None, tail_strength=0.5, noise=0.0, seed=2023\n",
    "        )\n",
    "        X = pd.DataFrame(X)\n",
    "        X = pollution_eighth_experiment(X, X_AXIS[i])\n",
    "        RESULTS_ALGORITHM.append(regression(X, y, algorithm, SEED))\n",
    "\n",
    "    RESULTS_PER_ALGORITHM.append(RESULTS_ALGORITHM)\n",
    "\n",
    "plot_results(\n",
    "    x_axis_values=X_AXIS, x_label=X_LABEL, results=RESULTS_PER_ALGORITHM, title=DESCRIPTION,\n",
    "    algorithms=REGRESSION_ALGORITHMS\n",
    ")"
   ],
   "metadata": {
    "collapsed": false
   },
   "id": "244c82915efedc63",
   "execution_count": 0
  },
  {
   "cell_type": "markdown",
   "source": [
    "## Experiment 9. Distinctness over most Informative Feature"
   ],
   "metadata": {
    "collapsed": false
   },
   "id": "867694f0e14fa91d"
  },
  {
   "cell_type": "code",
   "outputs": [],
   "source": [
    "DESCRIPTION = 'Distinctness - Distinctness over most Informative Feature'\n",
    "X_LABEL = \"Percentage of outliers\"\n",
    "RESULTS_PER_ALGORITHM = []\n",
    "X_AXIS = [n * 0.05 for n in range(0, 11)]\n",
    "\n",
    "for algorithm in REGRESSION_ALGORITHMS:\n",
    "    RESULTS_ALGORITHM = []\n",
    "\n",
    "    for i in range(len(X_AXIS)):\n",
    "        X, y = make_dataset_for_regression(\n",
    "            n_samples=1000, n_features=9, n_informative=4, n_targets=1,\n",
    "            bias=0.0, effective_rank=None, tail_strength=0.5, noise=0.0, seed=2023\n",
    "        )\n",
    "        X = pd.DataFrame(X)\n",
    "        X = pollution_ninth_tenth_experiments(X, y, X_AXIS[i])\n",
    "        RESULTS_ALGORITHM.append(regression(X, y, algorithm, SEED))\n",
    "\n",
    "    RESULTS_PER_ALGORITHM.append(RESULTS_ALGORITHM)\n",
    "\n",
    "plot_results(\n",
    "    x_axis_values=X_AXIS, x_label=X_LABEL, results=RESULTS_PER_ALGORITHM, title=DESCRIPTION,\n",
    "    algorithms=REGRESSION_ALGORITHMS\n",
    ")"
   ],
   "metadata": {
    "collapsed": false
   },
   "id": "f6a6977747fe3d44",
   "execution_count": 0
  },
  {
   "cell_type": "markdown",
   "source": [
    "## Experiment 10. Distinctness over less Informative Features"
   ],
   "metadata": {
    "collapsed": false
   },
   "id": "35b1cbf353e6b4cd"
  },
  {
   "cell_type": "code",
   "outputs": [],
   "source": [
    "DESCRIPTION = 'Distinctness - Distinctness over less Informative Features'\n",
    "X_LABEL = \"Percentage of outliers\"\n",
    "RESULTS_PER_ALGORITHM = []\n",
    "X_AXIS = [n * 0.05 for n in range(0, 11)]\n",
    "\n",
    "for algorithm in REGRESSION_ALGORITHMS:\n",
    "    RESULTS_ALGORITHM = []\n",
    "\n",
    "    for i in range(len(X_AXIS)):\n",
    "        X, y = make_dataset_for_regression(\n",
    "            n_samples=1000, n_features=9, n_informative=4, n_targets=1,\n",
    "            bias=0.0, effective_rank=None, tail_strength=0.5, noise=0.0, seed=2023\n",
    "        )\n",
    "        X = pd.DataFrame(X)\n",
    "        X = pollution_ninth_tenth_experiments(X, y, percentage=X_AXIS[i], informative=False)\n",
    "        RESULTS_ALGORITHM.append(regression(X, y, algorithm, SEED))\n",
    "\n",
    "    RESULTS_PER_ALGORITHM.append(RESULTS_ALGORITHM)\n",
    "\n",
    "plot_results(\n",
    "    x_axis_values=X_AXIS, x_label=X_LABEL, results=RESULTS_PER_ALGORITHM, title=DESCRIPTION,\n",
    "    algorithms=REGRESSION_ALGORITHMS\n",
    ")"
   ],
   "metadata": {
    "collapsed": false
   },
   "id": "a4f4a6cbe0634305",
   "execution_count": 0
  }
 ],
 "metadata": {
  "kernelspec": {
   "display_name": "Python 3",
   "language": "python",
   "name": "python3"
  },
  "language_info": {
   "codemirror_mode": {
    "name": "ipython",
    "version": 2
   },
   "file_extension": ".py",
   "mimetype": "text/x-python",
   "name": "python",
   "nbconvert_exporter": "python",
   "pygments_lexer": "ipython2",
   "version": "2.7.6"
  }
 },
 "nbformat": 4,
 "nbformat_minor": 5
}
