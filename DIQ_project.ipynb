{
 "nbformat": 4,
 "nbformat_minor": 0,
 "metadata": {
  "colab": {
   "provenance": []
  },
  "kernelspec": {
   "name": "python3",
   "language": "python",
   "display_name": "Python 3 (ipykernel)"
  },
  "language_info": {
   "name": "python"
  }
 },
 "cells": [
  {
   "cell_type": "code",
   "source": [
    "import random\n",
    "\n",
    "import numpy as np\n",
    "import pandas as pd\n",
    "from sklearn.impute import SimpleImputer\n",
    "\n",
    "from library.A_data_collection import make_dataset_for_regression\n",
    "from library.D_data_analysis import regression\n",
    "from library.E_plot_results import plot\n",
    "from library.my_functions import pollute_data_mcar, zoomed_plot, zoom_data\n",
    "\n",
    "SEED = 2023\n",
    "random.seed(SEED)\n",
    "np.random.seed(SEED)"
   ],
   "metadata": {
    "id": "hLB30zzgiuOn"
   },
   "execution_count": null,
   "outputs": []
  },
  {
   "cell_type": "code",
   "source": [
    "#from google.colab import drive\n",
    "#drive.mount('/gdrive')\n",
    "#%cd '/gdrive/MyDrive/DIQ_Project_I+B/'"
   ],
   "metadata": {
    "colab": {
     "base_uri": "https://localhost:8080/"
    },
    "id": "bjKR2m-gKLk2",
    "outputId": "b9f32024-0d14-452a-851c-810cd9ae6a5f"
   },
   "execution_count": null,
   "outputs": []
  },
  {
   "cell_type": "markdown",
   "source": [
    "# Completeness and Distinctness Issues in Regression"
   ],
   "metadata": {
    "id": "Yy3tL2hp3Vip"
   }
  },
  {
   "cell_type": "markdown",
   "source": [
    "N.B For each DQ issue you are requested to generate 10 different experiments\n",
    "1 experiment correspond to the generation of a plot/with related tables.\n",
    "For 1 experiment, the DQ issue assigned to your Group/you must be injected in your data with a different %.\n",
    "Following, detailed guidelines on which are the expected results for each assigned DQ issue:\n",
    "\n",
    "Completeness\n",
    "— consider both Missing Not at Random (MNAR) and Missing Completely at Random (MCAR) missing\n",
    "value distributions\n",
    "— 10 experiments with a different distribution of missing values: for example, you can distribute the missing\n",
    "values uniformly across all columns, or change the percentage of missing values for columns with different\n",
    "informativeness (changing the default parameter in the data collection). Try to think of a way to simulate\n",
    "also MNAR distributions!\n",
    "— For one experiment: varying % of missing values, for example from 5% to 50% (with an increasing step\n",
    "of 5%) of injected missing values\n",
    "\n",
    "Distinctness\n",
    "— 10 experiments with a different number of polluted features: for example, substituting/polluting a different\n",
    "number of the original features, or adding more and more features\n",
    "— For one experiment: varying % of distinctness, from very low distinctness (all values constant) to very\n",
    "high (all unique values)\n",
    "— You can also try to combine low-distinctness and high-distinctness columns in some experiments\n",
    "\n",
    "\n",
    "Data Preparation is requested for: Completeness\n",
    "Select one/more data preparation techniques that we have seen at exercise lectures and implement it/them inside the pipeline.\n",
    "For Completeness apply Data Imputation."
   ],
   "metadata": {
    "id": "eAuu1Zj95nk6"
   }
  },
  {
   "cell_type": "markdown",
   "source": [
    "# List of algorithms for regression"
   ],
   "metadata": {
    "collapsed": false
   }
  },
  {
   "cell_type": "code",
   "outputs": [],
   "source": [
    "REGRESSION_ALGORITHMS = [\n",
    "    \"LinearRegressor\", \"BayesianRidge\", \"GPRegressor\", \"SVMRegressor\", \"KNNRegressor\",\n",
    "    \"MLPRegressor\"\n",
    "]\n",
    "\n",
    "SEED = 2023"
   ],
   "metadata": {
    "collapsed": false
   },
   "execution_count": null
  },
  {
   "cell_type": "code",
   "source": [
    "if __name__ == '__main__':\n",
    "    print(\"Starting the script...\")\n",
    "\n",
    "    # A: DATA COLLECTION\n",
    "    X, y = make_dataset_for_regression(\n",
    "        n_samples=1000, n_features=3, n_informative=3, n_targets=1, bias=0.0,\n",
    "        effective_rank=None, tail_strength=0.5, noise=0.0, seed=2023\n",
    "    )\n",
    "\n",
    "    X_df = pd.DataFrame(X)\n",
    "\n",
    "    # B: DATA POLLUTION\n",
    "    # YOUR POLLUTION FUNCTION (on the generated datasets)\n",
    "    # Can insert DQ issues with certain percentages (can create a mask of T and F values of the same length of the dataframe X in order to use the loc function and localize the rows in which to perform some actions). This mask can be generated with the random function of python (random seed) used to match the dataframe and substitute the value.\n",
    "    pollute_data_mcar(X_df)\n",
    "\n",
    "    # D: DATA ANALYSIS\n",
    "    #for algorithm in REGRESSION_ALGORITHMS:\n",
    "    #results_2_analysis = regression(X, y, algorithm, SEED)\n",
    "\n",
    "    # C: DATA PREPARATION (IF REQUESTED, IT DEPENDS ON THE DQ ISSUE)\n",
    "    # YOUR DATA PREPARATION FUNCTION (to apply on the generated datasets)\n",
    "    # For Completeness apply Data Imputation in the Data Preparation phase - try different imputation techniques (ffill, bfill, mean, median, ML methods)\n",
    "\n",
    "    # D: DATA ANALYSIS ON THE CLEANED DATASETS (re-compute the data analysis evaluation on prepared dataset)\n",
    "    #for algorithm in REGRESSION_ALGORITHMS:\n",
    "    #results_2_analysis = classification(X, y, algorithm, SEED):\n",
    "    #results_2_analysis = regression(X, y, algorithm, SEED)\n",
    "    #results_2_analysis = clustering(X, algorithm, n_clusters, SEED)\n",
    "\n",
    "    # E: PLOT RESULTS\n",
    "    # RESULTS EVALUATION\n",
    "    # ADD TABLES WITH THE RESULTS FOR THE REPORT!"
   ],
   "metadata": {
    "id": "BetMNBif4zXS",
    "colab": {
     "base_uri": "https://localhost:8080/"
    },
    "outputId": "36b9698e-dd52-4651-f508-f885da8a2687"
   },
   "execution_count": null,
   "outputs": []
  },
  {
   "cell_type": "markdown",
   "source": [
    "# Regression example"
   ],
   "metadata": {
    "collapsed": false
   }
  },
  {
   "cell_type": "code",
   "source": [
    "# An example of one experiment, but we have to generate 10 different experiments (can change a parameter between experiments, with different setup of the data pollution function)\n",
    "# (in this toy example, I simply created 10 datasets with respectively 1000, 1001, 1002, 1003, 1004, 1005, 1006, 1007, 1008, 1009 number of samples and I generated the three plots for the evaluation of the results)\n",
    "\n",
    "X_AXIS = [n * 0.05 for n in range(1, 11)]\n",
    "\n",
    "RESULTS_PER_ALGORITHM = []\n",
    "\n",
    "for algorithm in REGRESSION_ALGORITHMS:\n",
    "    RESULTS_ALGORITHM = []\n",
    "\n",
    "    for i in range(len(X_AXIS)):\n",
    "        # SECOND CYCLE ON THE NUMBER OF POLLUTED DATASET THAT YOU WANT TO CREATE WITH DIFFERENT % OF POLLUTION\n",
    "        # DATA COLLECTION - creating 10 datasets with an increase in the samples\n",
    "        X, y = make_dataset_for_regression(\n",
    "            n_samples=1000, n_features=3, n_informative=3, n_targets=1,\n",
    "            bias=0.0, effective_rank=None, tail_strength=0.5, noise=0.0, seed=2023\n",
    "        )\n",
    "\n",
    "        X = pd.DataFrame(X)\n",
    "\n",
    "        pollute_data_mcar(X, percent_incomplete=X_AXIS[i])\n",
    "\n",
    "        # DATA ANALYSIS\n",
    "        RESULTS_ALGORITHM.append(regression(X, y, algorithm, SEED))\n",
    "\n",
    "    RESULTS_PER_ALGORITHM.append(RESULTS_ALGORITHM)"
   ],
   "metadata": {
    "id": "XAquGMCB4zto"
   },
   "execution_count": null,
   "outputs": []
  },
  {
   "cell_type": "markdown",
   "source": [
    "# Results evaluation"
   ],
   "metadata": {
    "collapsed": false
   }
  },
  {
   "cell_type": "code",
   "source": [
    "# EXAMPLE FOR USING THE SCRIPTS TO PLOT THE RESULTS - x_axis for the data quality issue, while the y_axis is the performance measure\n",
    "# Injecting a high amount of issues in the dataset, the model will learn on that errors, so it will have a performance value really far from the one of the test set\n",
    "X_LABEL = \"Number of samples\"\n",
    "DESCRIPTION = 'Completeness - MCAR - Trial regression '\n",
    "\n",
    "plot(\n",
    "    x_axis_values=X_AXIS, x_label=X_LABEL, results=RESULTS_PER_ALGORITHM,\n",
    "    title=DESCRIPTION + \"performance\", algorithms=REGRESSION_ALGORITHMS, plot_type=\"performance\"\n",
    ")\n",
    "\n",
    "plot(\n",
    "    x_axis_values=X_AXIS, x_label=X_LABEL, results=RESULTS_PER_ALGORITHM,\n",
    "    title=DESCRIPTION + \"distance train-test\", algorithms=REGRESSION_ALGORITHMS, plot_type=\"distance train-test\"\n",
    ")\n",
    "\n",
    "plot(\n",
    "    x_axis_values=X_AXIS, x_label=X_LABEL, results=RESULTS_PER_ALGORITHM,\n",
    "    title=DESCRIPTION + \"speed\", algorithms=REGRESSION_ALGORITHMS, plot_type=\"speed\"\n",
    ")"
   ],
   "metadata": {
    "id": "mF7OW5sV2cdG"
   },
   "execution_count": null,
   "outputs": []
  },
  {
   "cell_type": "code",
   "source": [
    "DESCRIPTION = 'Completeness - MCAR - Zoomed trial regression '\n",
    "\n",
    "zoomed_plot(\n",
    "    zoom=zoom_data(RESULTS_PER_ALGORITHM, 'mean_perf'), x_axis_values=X_AXIS, x_label=X_LABEL,\n",
    "    results=RESULTS_PER_ALGORITHM, title=DESCRIPTION + \"performance\", algorithms=REGRESSION_ALGORITHMS,\n",
    "    plot_type=\"performance\"\n",
    ")\n",
    "\n",
    "zoomed_plot(\n",
    "    zoom=zoom_data(RESULTS_PER_ALGORITHM, 'distance'), x_axis_values=X_AXIS, x_label=X_LABEL,\n",
    "    results=RESULTS_PER_ALGORITHM, title=DESCRIPTION + \"distance train-test\", algorithms=REGRESSION_ALGORITHMS,\n",
    "    plot_type=\"distance train-test\"\n",
    ")\n",
    "\n",
    "zoomed_plot(\n",
    "    zoom=zoom_data(RESULTS_PER_ALGORITHM, 'speed'), x_axis_values=X_AXIS, x_label=X_LABEL,\n",
    "    results=RESULTS_PER_ALGORITHM, title=DESCRIPTION + \"speed\", algorithms=REGRESSION_ALGORITHMS,\n",
    "    plot_type=\"speed\"\n",
    ")"
   ],
   "metadata": {
    "colab": {
     "base_uri": "https://localhost:8080/",
     "height": 1000
    },
    "id": "LEHhiWLIpHEZ",
    "outputId": "e948b8f3-ce32-46ed-9958-dd6bd438e2de"
   },
   "execution_count": null,
   "outputs": []
  },
  {
   "cell_type": "markdown",
   "source": [
    "## Data Preparation"
   ],
   "metadata": {
    "collapsed": false
   }
  },
  {
   "cell_type": "code",
   "outputs": [],
   "source": [
    "SI = SimpleImputer(missing_values=np.NaN, strategy=\"median\")  # as fillna - mean\n",
    "\n",
    "# TODO: Define another dataset in which we use SI to impute the null values"
   ],
   "metadata": {
    "id": "aqroT6k4zHmd"
   },
   "execution_count": null
  },
  {
   "cell_type": "code",
   "outputs": [],
   "source": [
    "RESULTS_PER_ALGORITHM = []\n",
    "\n",
    "for algorithm in REGRESSION_ALGORITHMS:  # FIRST CYCLE ON THE ALGORITHMS\n",
    "    RESULTS_ALGORITHM = []\n",
    "\n",
    "    for i in range(len(X_AXIS)):\n",
    "        X, y = make_dataset_for_regression(\n",
    "            n_samples=1000, n_features=3, n_informative=3, n_targets=1, bias=0.0,\n",
    "            effective_rank=None, tail_strength=0.5, noise=0.0, seed=2023\n",
    "        )\n",
    "        X = pd.DataFrame(X)\n",
    "\n",
    "        pollute_data_mcar(X, percent_incomplete=X_AXIS[i])\n",
    "\n",
    "        X_CLEAN = SI.fit_transform(X)\n",
    "\n",
    "        # DATA ANALYSIS\n",
    "        RESULTS_ALGORITHM.append(regression(X_CLEAN, y, algorithm, SEED))\n",
    "\n",
    "    RESULTS_PER_ALGORITHM.append(RESULTS_ALGORITHM)"
   ],
   "metadata": {
    "id": "A_6y6jv9zLdY"
   },
   "execution_count": null
  },
  {
   "cell_type": "markdown",
   "source": [
    "## Results Evaluation"
   ],
   "metadata": {
    "collapsed": false
   }
  },
  {
   "cell_type": "code",
   "outputs": [],
   "source": [
    "DESCRIPTION = 'Completeness - MCAR - Cleaned regression '\n",
    "\n",
    "plot(\n",
    "    x_axis_values=X_AXIS, x_label=X_LABEL, results=RESULTS_PER_ALGORITHM, title=DESCRIPTION + \"performance\",\n",
    "    algorithms=REGRESSION_ALGORITHMS, plot_type=\"performance\"\n",
    ")\n",
    "\n",
    "plot(\n",
    "    x_axis_values=X_AXIS, x_label=X_LABEL, results=RESULTS_PER_ALGORITHM, title=DESCRIPTION + \"distance train-test\",\n",
    "    algorithms=REGRESSION_ALGORITHMS, plot_type=\"distance train-test\"\n",
    ")\n",
    "\n",
    "plot(\n",
    "    x_axis_values=X_AXIS, x_label=X_LABEL, results=RESULTS_PER_ALGORITHM, title=DESCRIPTION + \"speed\",\n",
    "    algorithms=REGRESSION_ALGORITHMS, plot_type=\"speed\"\n",
    ")"
   ],
   "metadata": {
    "colab": {
     "base_uri": "https://localhost:8080/",
     "height": 1000
    },
    "id": "9CTPZU0Izj5Z",
    "outputId": "2ad83d3d-0bba-4074-d26e-6951201338fd"
   },
   "execution_count": null
  },
  {
   "cell_type": "code",
   "outputs": [],
   "source": [
    "DESCRIPTION = 'Completeness - MCAR - Zoomed cleaned regression '\n",
    "\n",
    "zoomed_plot(\n",
    "    zoom=zoom_data(RESULTS_PER_ALGORITHM, 'mean_perf'), x_axis_values=X_AXIS, x_label=X_LABEL,\n",
    "    results=RESULTS_PER_ALGORITHM, title=DESCRIPTION + \"performance\", algorithms=REGRESSION_ALGORITHMS,\n",
    "    plot_type=\"performance\"\n",
    ")\n",
    "\n",
    "zoomed_plot(\n",
    "    zoom=zoom_data(RESULTS_PER_ALGORITHM, 'distance'), x_axis_values=X_AXIS, x_label=X_LABEL,\n",
    "    results=RESULTS_PER_ALGORITHM, title=DESCRIPTION + \"distance train-test\", algorithms=REGRESSION_ALGORITHMS,\n",
    "    plot_type=\"distance train-test\"\n",
    ")\n",
    "\n",
    "zoomed_plot(\n",
    "    zoom=zoom_data(RESULTS_PER_ALGORITHM, 'speed'), x_axis_values=X_AXIS, x_label=X_LABEL,\n",
    "    results=RESULTS_PER_ALGORITHM, title=DESCRIPTION + \"speed\", algorithms=REGRESSION_ALGORITHMS,\n",
    "    plot_type=\"speed\"\n",
    ")"
   ],
   "metadata": {
    "collapsed": false
   },
   "execution_count": null
  }
 ]
}
