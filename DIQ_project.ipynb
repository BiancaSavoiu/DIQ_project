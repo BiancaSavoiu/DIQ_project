{
 "nbformat": 4,
 "nbformat_minor": 0,
 "metadata": {
  "colab": {
   "provenance": []
  },
  "kernelspec": {
   "name": "python3",
   "language": "python",
   "display_name": "Python 3 (ipykernel)"
  },
  "language_info": {
   "name": "python"
  }
 },
 "cells": [
  {
   "cell_type": "code",
   "source": [
    "import os\n",
    "import random\n",
    "import shutil\n",
    "import warnings\n",
    "\n",
    "import numpy as np\n",
    "import pandas as pd\n",
    "from sklearn.impute import SimpleImputer\n",
    "\n",
    "from library.A_data_collection import make_dataset_for_regression\n",
    "from library.D_data_analysis import regression\n",
    "from library.my_functions import pollute_data_mcar, pollute_data_with_constant_feature, \\\n",
    "    pollute_data_mcar_for_each_feature_in_incremental_way, pollute_data_mnar, plot_results, \\\n",
    "    pollute_data_for_distinctness_issues_among_different_features, pollute_data_with_random_noise, \\\n",
    "    pollute_data_with_categorical_variables, pollute_data_with_outliers\n",
    "\n",
    "warnings.simplefilter(action='ignore', category=FutureWarning)\n",
    "warnings.simplefilter(action='ignore', category=Warning)\n",
    "\n",
    "SEED = 2023\n",
    "random.seed(SEED)\n",
    "np.random.seed(SEED)"
   ],
   "metadata": {
    "id": "hLB30zzgiuOn"
   },
   "execution_count": null,
   "outputs": []
  },
  {
   "cell_type": "markdown",
   "source": [
    "# Completeness and Distinctness Issues in Regression"
   ],
   "metadata": {
    "id": "Yy3tL2hp3Vip"
   }
  },
  {
   "cell_type": "markdown",
   "source": [
    "N.B. For each DQ issue you are requested to generate 10 different experiments\n",
    "1 experiment to correspond to the generation of a plot/with related tables.\n",
    "For one experiment, the DQ issue assigned to your Group/you must be injected in your data with a different %.\n",
    "Following, detailed guidelines on which are the expected results for each assigned DQ issue:\n",
    "\n",
    "Completeness\n",
    "- consider both Missing Not at Random (MNAR) and Missing Completely at Random (MCAR) missing\n",
    "value distributions\n",
    "- Ten experiments with a different distribution of missing values: for example, you can distribute the missing\n",
    "values uniformly across all columns, or change the percentage of missing values for columns with different\n",
    "informativeness (changing the default parameter in the data collection). Try to think of a way to simulate\n",
    "also MNAR distributions!\n",
    "- For one experiment: varying % of missing values, for example, from 5% to 50% (with an increasing step\n",
    "of 5%) of injected missing values\n",
    "\n",
    "Distinctness\n",
    "- Ten experiments with a different number of polluted features: for example, substituting/polluting a different\n",
    "number of the original features, or adding more and more features\n",
    "- For one experiment: varying % of distinctness, from very low distinctness (all values constant) to very\n",
    "high (all unique values)\n",
    "- You can also try to combine low distinctness and high-distinctness columns in some experiments\n",
    "\n",
    "\n",
    "Data Preparation is requested for Completeness.\n",
    "Select one/more data preparation techniques that we have seen at exercise lectures and implement it/them inside the pipeline.\n",
    "For Completeness, apply Data Imputation."
   ],
   "metadata": {
    "id": "eAuu1Zj95nk6"
   }
  },
  {
   "cell_type": "markdown",
   "source": [
    "## List of algorithms for regression"
   ],
   "metadata": {
    "collapsed": false
   }
  },
  {
   "cell_type": "code",
   "outputs": [],
   "source": [
    "REGRESSION_ALGORITHMS = [\n",
    "    \"LinearRegressor\", \"BayesianRidge\", \"GPRegressor\", \"SVMRegressor\", \"KNNRegressor\",\n",
    "    \"MLPRegressor\"\n",
    "]"
   ],
   "metadata": {
    "collapsed": false
   },
   "execution_count": null
  },
  {
   "cell_type": "markdown",
   "source": [
    "# COMPLETENESS"
   ],
   "metadata": {
    "collapsed": false
   }
  },
  {
   "cell_type": "markdown",
   "source": [
    "## Experiment 1. Completeness - MCAR with different percentages"
   ],
   "metadata": {
    "collapsed": false
   }
  },
  {
   "cell_type": "code",
   "source": [
    "DESCRIPTION = 'Completeness - MCAR'\n",
    "X_LABEL = \"Percentage of missing values\"\n",
    "\n",
    "RESULTS_PER_ALGORITHM = []\n",
    "X_AXIS = [n * 0.05 for n in range(1, 11)]\n",
    "\n",
    "for algorithm in REGRESSION_ALGORITHMS:\n",
    "    RESULTS_ALGORITHM = []\n",
    "\n",
    "    for i in range(len(X_AXIS)):\n",
    "        # DATA COLLECTION - creating 10 datasets with an increase in the samples\n",
    "        X, y = make_dataset_for_regression(\n",
    "            n_samples=1000, n_features=3, n_informative=3, n_targets=1,\n",
    "            bias=0.0, effective_rank=None, tail_strength=0.5, noise=0.0, seed=2023\n",
    "        )\n",
    "\n",
    "        X = pd.DataFrame(X)\n",
    "\n",
    "        pollute_data_mcar(X, percent_incomplete=X_AXIS[i])\n",
    "\n",
    "        # DATA ANALYSIS\n",
    "        RESULTS_ALGORITHM.append(regression(X, y, algorithm, SEED))\n",
    "\n",
    "    RESULTS_PER_ALGORITHM.append(RESULTS_ALGORITHM)\n",
    "\n",
    "plot_results(\n",
    "    x_axis_values=X_AXIS, x_label=X_LABEL, results=RESULTS_PER_ALGORITHM, title=DESCRIPTION,\n",
    "    algorithms=REGRESSION_ALGORITHMS\n",
    ")"
   ],
   "metadata": {
    "id": "XAquGMCB4zto"
   },
   "execution_count": null,
   "outputs": []
  },
  {
   "cell_type": "code",
   "outputs": [],
   "source": [
    "RESULTS_PER_ALGORITHM = []\n",
    "\n",
    "SI = SimpleImputer(missing_values=np.NaN, strategy=\"median\")  # as fillna - mean\n",
    "\n",
    "for algorithm in REGRESSION_ALGORITHMS:  # FIRST CYCLE ON THE ALGORITHMS\n",
    "    RESULTS_ALGORITHM = []\n",
    "\n",
    "    for i in range(len(X_AXIS)):\n",
    "        # DATA COLLECTION - creating 10 datasets with an increase in the samples\n",
    "        X, y = make_dataset_for_regression(\n",
    "            n_samples=1000, n_features=3, n_informative=3, n_targets=1, bias=0.0,\n",
    "            effective_rank=None, tail_strength=0.5, noise=0.0, seed=2023\n",
    "        )\n",
    "        X = pd.DataFrame(X)\n",
    "\n",
    "        pollute_data_mcar(X, percent_incomplete=X_AXIS[i])\n",
    "        X_CLEAN = SI.fit_transform(X)\n",
    "\n",
    "        # DATA ANALYSIS\n",
    "        RESULTS_ALGORITHM.append(regression(X_CLEAN, y, algorithm, SEED))\n",
    "\n",
    "    RESULTS_PER_ALGORITHM.append(RESULTS_ALGORITHM)\n",
    "\n",
    "plot_results(\n",
    "    x_axis_values=X_AXIS, x_label=X_LABEL, results=RESULTS_PER_ALGORITHM, title=DESCRIPTION,\n",
    "    algorithms=REGRESSION_ALGORITHMS, cleaned_data=True\n",
    ")"
   ],
   "metadata": {
    "id": "A_6y6jv9zLdY"
   },
   "execution_count": null
  },
  {
   "cell_type": "markdown",
   "source": [
    "## Experiment 2. Completeness - MCAR for each feature"
   ],
   "metadata": {
    "collapsed": false
   }
  },
  {
   "cell_type": "code",
   "outputs": [],
   "source": [
    "DESCRIPTION = 'Completeness - MCAR for each feature'\n",
    "X_LABEL = \"Number of samples\"\n",
    "\n",
    "RESULTS_PER_ALGORITHM = []\n",
    "X_AXIS = [1000 + (n * 10) for n in range(1, 11)]\n",
    "\n",
    "for algorithm in REGRESSION_ALGORITHMS:\n",
    "    RESULTS_ALGORITHM = []\n",
    "\n",
    "    for i in range(len(X_AXIS)):\n",
    "        # DATA COLLECTION - creating 10 datasets with an increase in the samples\n",
    "        X, y = make_dataset_for_regression(\n",
    "            n_samples=1000 + (i * 10), n_features=5, n_informative=3, n_targets=1,\n",
    "            bias=0.0, effective_rank=None, tail_strength=0.5, noise=0.0, seed=2023\n",
    "        )\n",
    "\n",
    "        X = pd.DataFrame(X)\n",
    "\n",
    "        pollute_data_mcar_for_each_feature_in_incremental_way(X)\n",
    "\n",
    "        # DATA ANALYSIS\n",
    "        RESULTS_ALGORITHM.append(regression(X, y, algorithm, SEED))\n",
    "\n",
    "    RESULTS_PER_ALGORITHM.append(RESULTS_ALGORITHM)\n",
    "\n",
    "plot_results(\n",
    "    x_axis_values=X_AXIS, x_label=X_LABEL, results=RESULTS_PER_ALGORITHM, title=DESCRIPTION,\n",
    "    algorithms=REGRESSION_ALGORITHMS\n",
    ")"
   ],
   "metadata": {
    "collapsed": false
   },
   "execution_count": null
  },
  {
   "cell_type": "code",
   "outputs": [],
   "source": [
    "RESULTS_PER_ALGORITHM = []\n",
    "\n",
    "SI = SimpleImputer(missing_values=np.NaN, strategy=\"median\")  # as fillna - mean\n",
    "\n",
    "for algorithm in REGRESSION_ALGORITHMS:\n",
    "    RESULTS_ALGORITHM = []\n",
    "\n",
    "    for i in range(len(X_AXIS)):\n",
    "        # DATA COLLECTION - creating 10 datasets with an increase in the samples\n",
    "        X, y = make_dataset_for_regression(\n",
    "            n_samples=1000 + (i * 10), n_features=5, n_informative=3, n_targets=1,\n",
    "            bias=0.0, effective_rank=None, tail_strength=0.5, noise=0.0, seed=2023\n",
    "        )\n",
    "\n",
    "        X = pd.DataFrame(X)\n",
    "\n",
    "        pollute_data_mcar_for_each_feature_in_incremental_way(X)\n",
    "\n",
    "        X_CLEAN = SI.fit_transform(X)\n",
    "\n",
    "        # DATA ANALYSIS\n",
    "        RESULTS_ALGORITHM.append(regression(X_CLEAN, y, algorithm, SEED))\n",
    "\n",
    "    RESULTS_PER_ALGORITHM.append(RESULTS_ALGORITHM)\n",
    "\n",
    "plot_results(\n",
    "    x_axis_values=X_AXIS, x_label=X_LABEL, results=RESULTS_PER_ALGORITHM, title=DESCRIPTION,\n",
    "    algorithms=REGRESSION_ALGORITHMS, cleaned_data=True\n",
    ")"
   ],
   "metadata": {
    "collapsed": false
   },
   "execution_count": null
  },
  {
   "cell_type": "markdown",
   "source": [
    "## Experiment 3: Completeness - MNAR"
   ],
   "metadata": {
    "collapsed": false
   }
  },
  {
   "cell_type": "code",
   "outputs": [],
   "source": [
    "DESCRIPTION = 'Completeness - MNAR'\n",
    "X_LABEL = \"Number of samples\"\n",
    "\n",
    "RESULTS_PER_ALGORITHM = []\n",
    "X_AXIS = [1000 + (n * 10) for n in range(1, 11)]\n",
    "\n",
    "for algorithm in REGRESSION_ALGORITHMS:\n",
    "    RESULTS_ALGORITHM = []\n",
    "\n",
    "    for i in range(len(X_AXIS)):\n",
    "        # DATA COLLECTION - creating 10 datasets with an increase in the samples\n",
    "        X, y = make_dataset_for_regression(\n",
    "            n_samples=1000 + (i * 10), n_features=3, n_informative=3, n_targets=1,\n",
    "            bias=0.0, effective_rank=None, tail_strength=0.5, noise=0.0, seed=2023\n",
    "        )\n",
    "\n",
    "        X = pd.DataFrame(X)\n",
    "\n",
    "        pollute_data_mnar(X, 1, 2)\n",
    "\n",
    "        # DATA ANALYSIS\n",
    "        RESULTS_ALGORITHM.append(regression(X, y, algorithm, SEED))\n",
    "\n",
    "    RESULTS_PER_ALGORITHM.append(RESULTS_ALGORITHM)\n",
    "\n",
    "plot_results(\n",
    "    x_axis_values=X_AXIS, x_label=X_LABEL, results=RESULTS_PER_ALGORITHM, title=DESCRIPTION,\n",
    "    algorithms=REGRESSION_ALGORITHMS\n",
    ")"
   ],
   "metadata": {
    "collapsed": false
   },
   "execution_count": null
  },
  {
   "cell_type": "code",
   "outputs": [],
   "source": [
    "RESULTS_PER_ALGORITHM = []\n",
    "\n",
    "SI = SimpleImputer(missing_values=np.NaN, strategy=\"median\")  # as fillna - mean\n",
    "\n",
    "for algorithm in REGRESSION_ALGORITHMS:\n",
    "    RESULTS_ALGORITHM = []\n",
    "\n",
    "    for i in range(len(X_AXIS)):\n",
    "        # DATA COLLECTION - creating 10 datasets with an increase in the samples\n",
    "        X, y = make_dataset_for_regression(\n",
    "            n_samples=1000 + (i * 10), n_features=3, n_informative=3, n_targets=1,\n",
    "            bias=0.0, effective_rank=None, tail_strength=0.5, noise=0.0, seed=2023\n",
    "        )\n",
    "\n",
    "        X = pd.DataFrame(X)\n",
    "\n",
    "        pollute_data_mnar(X, 1, 2)\n",
    "\n",
    "        X_CLEAN = SI.fit_transform(X)\n",
    "\n",
    "        # DATA ANALYSIS\n",
    "        RESULTS_ALGORITHM.append(regression(X_CLEAN, y, algorithm, SEED))\n",
    "\n",
    "    RESULTS_PER_ALGORITHM.append(RESULTS_ALGORITHM)\n",
    "\n",
    "plot_results(\n",
    "    x_axis_values=X_AXIS, x_label=X_LABEL, results=RESULTS_PER_ALGORITHM, title=DESCRIPTION,\n",
    "    algorithms=REGRESSION_ALGORITHMS, cleaned_data=True\n",
    ")"
   ],
   "metadata": {
    "collapsed": false
   },
   "execution_count": null
  },
  {
   "cell_type": "markdown",
   "source": [
    "# DISTINCTNESS"
   ],
   "metadata": {
    "collapsed": false
   }
  },
  {
   "cell_type": "markdown",
   "source": [
    "## Experiment 1: Distinctness - Mid-high distinctness"
   ],
   "metadata": {
    "collapsed": false
   }
  },
  {
   "cell_type": "code",
   "outputs": [],
   "source": [
    "DESCRIPTION = 'Distinctness - Mid-high distinctness'\n",
    "X_LABEL = \"Percentage of not distinct values\"\n",
    "\n",
    "RESULTS_PER_ALGORITHM = []\n",
    "X_AXIS = [n * 0.05 for n in range(0, 11)]\n",
    "\n",
    "for algorithm in REGRESSION_ALGORITHMS:\n",
    "    RESULTS_ALGORITHM = []\n",
    "\n",
    "    for i in range(len(X_AXIS)):\n",
    "        # DATA COLLECTION - creating 10 datasets with an increase in the samples\n",
    "        X, y = make_dataset_for_regression(\n",
    "            n_samples=1000, n_features=3, n_informative=3, n_targets=1,\n",
    "            bias=0.0, effective_rank=None, tail_strength=0.5, noise=0.0, seed=2023\n",
    "        )\n",
    "\n",
    "        X = pd.DataFrame(X)\n",
    "\n",
    "        X = pollute_data_with_constant_feature(X, X_AXIS[i])\n",
    "\n",
    "        # DATA ANALYSIS\n",
    "        RESULTS_ALGORITHM.append(regression(X, y, algorithm, SEED))\n",
    "\n",
    "    RESULTS_PER_ALGORITHM.append(RESULTS_ALGORITHM)\n",
    "\n",
    "plot_results(\n",
    "    x_axis_values=X_AXIS, x_label=X_LABEL, results=RESULTS_PER_ALGORITHM, title=DESCRIPTION,\n",
    "    algorithms=REGRESSION_ALGORITHMS\n",
    ")"
   ],
   "metadata": {
    "collapsed": false
   },
   "execution_count": null
  },
  {
   "cell_type": "markdown",
   "source": [
    "## Experiment 2: Distinctness - Mid-low distinctness"
   ],
   "metadata": {
    "collapsed": false
   }
  },
  {
   "cell_type": "code",
   "outputs": [],
   "source": [
    "DESCRIPTION = 'Distinctness - Mid-low distinctness'\n",
    "X_LABEL = \"Percentage of not distinct values\"\n",
    "\n",
    "RESULTS_PER_ALGORITHM = []\n",
    "X_AXIS = [n * 0.05 for n in range(10, 21)]\n",
    "\n",
    "for algorithm in REGRESSION_ALGORITHMS:\n",
    "    RESULTS_ALGORITHM = []\n",
    "\n",
    "    for i in range(len(X_AXIS)):\n",
    "        # DATA COLLECTION - creating 10 datasets with an increase in the samples\n",
    "        X, y = make_dataset_for_regression(\n",
    "            n_samples=1000, n_features=3, n_informative=3, n_targets=1,\n",
    "            bias=0.0, effective_rank=None, tail_strength=0.5, noise=0.0, seed=2023\n",
    "        )\n",
    "\n",
    "        X = pd.DataFrame(X)\n",
    "\n",
    "        X = pollute_data_with_constant_feature(X, X_AXIS[i])\n",
    "\n",
    "        # DATA ANALYSIS\n",
    "        RESULTS_ALGORITHM.append(regression(X, y, algorithm, SEED))\n",
    "\n",
    "    RESULTS_PER_ALGORITHM.append(RESULTS_ALGORITHM)\n",
    "\n",
    "plot_results(\n",
    "    x_axis_values=X_AXIS, x_label=X_LABEL, results=RESULTS_PER_ALGORITHM, title=DESCRIPTION,\n",
    "    algorithms=REGRESSION_ALGORITHMS\n",
    ")"
   ],
   "metadata": {
    "collapsed": false
   },
   "execution_count": null
  },
  {
   "cell_type": "markdown",
   "source": [
    "## Experiment 3: Distinctness - Different percentages among features"
   ],
   "metadata": {
    "collapsed": false
   }
  },
  {
   "cell_type": "code",
   "outputs": [],
   "source": [
    "DESCRIPTION = 'Distinctness - Different percentages among features'\n",
    "X_LABEL = \"Percentage of not distinct values\"\n",
    "\n",
    "RESULTS_PER_ALGORITHM = []\n",
    "X_AXIS = [n * 0.05 for n in range(1, 11)]\n",
    "\n",
    "for algorithm in REGRESSION_ALGORITHMS:\n",
    "    RESULTS_ALGORITHM = []\n",
    "\n",
    "    for i in range(len(X_AXIS)):\n",
    "        # DATA COLLECTION - creating 10 datasets with an increase in the samples\n",
    "        X, y = make_dataset_for_regression(\n",
    "            n_samples=1000, n_features=9, n_informative=4, n_targets=1,\n",
    "            bias=0.0, effective_rank=None, tail_strength=0.5, noise=0.0, seed=2023\n",
    "        )\n",
    "\n",
    "        X = pd.DataFrame(X)\n",
    "\n",
    "        X = pollute_data_for_distinctness_issues_among_different_features(X, X_AXIS[i])\n",
    "\n",
    "        # DATA ANALYSIS\n",
    "        RESULTS_ALGORITHM.append(regression(X, y, algorithm, SEED))\n",
    "\n",
    "    RESULTS_PER_ALGORITHM.append(RESULTS_ALGORITHM)\n",
    "\n",
    "plot_results(\n",
    "    x_axis_values=X_AXIS, x_label=X_LABEL, results=RESULTS_PER_ALGORITHM, title=DESCRIPTION,\n",
    "    algorithms=REGRESSION_ALGORITHMS\n",
    ")"
   ],
   "metadata": {
    "collapsed": false
   },
   "execution_count": null
  },
  {
   "cell_type": "markdown",
   "source": [
    "## Experiment 4 - Distinctness - Random noise"
   ],
   "metadata": {
    "collapsed": false
   }
  },
  {
   "cell_type": "code",
   "outputs": [],
   "source": [
    "DESCRIPTION = 'Distinctness - Random noise'\n",
    "X_LABEL = \"Percentage of not distinct values\"\n",
    "\n",
    "RESULTS_PER_ALGORITHM = []\n",
    "X_AXIS = [n * 0.05 for n in range(1, 11)]\n",
    "\n",
    "for algorithm in REGRESSION_ALGORITHMS:\n",
    "    RESULTS_ALGORITHM = []\n",
    "\n",
    "    for i in range(len(X_AXIS)):\n",
    "        # DATA COLLECTION - creating 10 datasets with an increase in the samples\n",
    "        X, y = make_dataset_for_regression(\n",
    "            n_samples=1000, n_features=9, n_informative=4, n_targets=1,\n",
    "            bias=0.0, effective_rank=None, tail_strength=0.5, noise=0.0, seed=2023\n",
    "        )\n",
    "\n",
    "        X = pd.DataFrame(X)\n",
    "\n",
    "        X = pollute_data_with_random_noise(X, X_AXIS[i])\n",
    "\n",
    "        # DATA ANALYSIS\n",
    "        RESULTS_ALGORITHM.append(regression(X, y, algorithm, SEED))\n",
    "\n",
    "    RESULTS_PER_ALGORITHM.append(RESULTS_ALGORITHM)\n",
    "\n",
    "plot_results(\n",
    "    x_axis_values=X_AXIS, x_label=X_LABEL, results=RESULTS_PER_ALGORITHM, title=DESCRIPTION,\n",
    "    algorithms=REGRESSION_ALGORITHMS\n",
    ")"
   ],
   "metadata": {
    "collapsed": false
   },
   "execution_count": null
  },
  {
   "cell_type": "markdown",
   "source": [
    "## Experiment 5 - Distinctness - Categorical variables"
   ],
   "metadata": {
    "collapsed": false
   }
  },
  {
   "cell_type": "code",
   "outputs": [],
   "source": [
    "DESCRIPTION = 'Distinctness - Categorical variables'\n",
    "X_LABEL = \"Number of categorical variables\"\n",
    "\n",
    "RESULTS_PER_ALGORITHM = []\n",
    "X_AXIS = [n for n in range(1, 11)]\n",
    "\n",
    "for algorithm in REGRESSION_ALGORITHMS:\n",
    "    RESULTS_ALGORITHM = []\n",
    "\n",
    "    for i in range(len(X_AXIS)):\n",
    "        # DATA COLLECTION - creating 10 datasets with an increase in the samples\n",
    "        X, y = make_dataset_for_regression(\n",
    "            n_samples=1000, n_features=9, n_informative=4, n_targets=1,\n",
    "            bias=0.0, effective_rank=None, tail_strength=0.5, noise=0.0, seed=2023\n",
    "        )\n",
    "\n",
    "        X = pd.DataFrame(X)\n",
    "\n",
    "        X = pollute_data_with_categorical_variables(X, X_AXIS[i])\n",
    "\n",
    "        # DATA ANALYSIS\n",
    "        RESULTS_ALGORITHM.append(regression(X, y, algorithm, SEED))\n",
    "\n",
    "    RESULTS_PER_ALGORITHM.append(RESULTS_ALGORITHM)\n",
    "\n",
    "plot_results(\n",
    "    x_axis_values=X_AXIS, x_label=X_LABEL, results=RESULTS_PER_ALGORITHM, title=DESCRIPTION,\n",
    "    algorithms=REGRESSION_ALGORITHMS\n",
    ")"
   ],
   "metadata": {
    "collapsed": false
   },
   "execution_count": null
  },
  {
   "cell_type": "markdown",
   "source": [
    "## Experiment 6 - Distinctness - Outliers"
   ],
   "metadata": {
    "collapsed": false
   }
  },
  {
   "cell_type": "code",
   "outputs": [],
   "source": [
    "DESCRIPTION = 'Distinctness - Outliers'\n",
    "X_LABEL = \"Percentage of outliers\"\n",
    "\n",
    "RESULTS_PER_ALGORITHM = []\n",
    "X_AXIS = [n * 0.0125 for n in range(1, 11)]\n",
    "\n",
    "for algorithm in REGRESSION_ALGORITHMS:\n",
    "    RESULTS_ALGORITHM = []\n",
    "\n",
    "    for i in range(len(X_AXIS)):\n",
    "        # DATA COLLECTION - creating 10 datasets with an increase in the samples\n",
    "        X, y = make_dataset_for_regression(\n",
    "            n_samples=1000, n_features=9, n_informative=4, n_targets=1,\n",
    "            bias=0.0, effective_rank=None, tail_strength=0.5, noise=0.0, seed=2023\n",
    "        )\n",
    "\n",
    "        X = pd.DataFrame(X)\n",
    "\n",
    "        X = pollute_data_with_outliers(X, X_AXIS[i])\n",
    "\n",
    "        # DATA ANALYSIS\n",
    "        RESULTS_ALGORITHM.append(regression(X, y, algorithm, SEED))\n",
    "\n",
    "    RESULTS_PER_ALGORITHM.append(RESULTS_ALGORITHM)\n",
    "\n",
    "plot_results(\n",
    "    x_axis_values=X_AXIS, x_label=X_LABEL, results=RESULTS_PER_ALGORITHM, title=DESCRIPTION,\n",
    "    algorithms=REGRESSION_ALGORITHMS\n",
    ")"
   ],
   "metadata": {
    "collapsed": false
   },
   "execution_count": null
  },
  {
   "cell_type": "code",
   "outputs": [],
   "source": [
    "for filename in os.listdir('./Plot'):\n",
    "    if 'Completeness' in filename and filename.endswith('.pdf'):\n",
    "        if not os.path.exists('./Plot/completeness/'):\n",
    "            os.mkdir('./Plot/completeness/')\n",
    "        shutil.move(f'./Plot/{filename}', f'./Plot/completeness/{filename}')\n",
    "    if 'Distinctness' in filename and filename.endswith('.pdf'):\n",
    "        if not os.path.exists('./Plot/distinctness/'):\n",
    "            os.mkdir('./Plot/distinctness/')\n",
    "        shutil.move(f'./Plot/{filename}', f'./Plot/distinctness/{filename}')"
   ],
   "metadata": {
    "collapsed": false
   },
   "execution_count": null
  }
 ]
}
