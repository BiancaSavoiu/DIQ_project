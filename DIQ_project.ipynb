{
 "nbformat": 4,
 "nbformat_minor": 0,
 "metadata": {
  "colab": {
   "provenance": []
  },
  "kernelspec": {
   "name": "python3",
   "language": "python",
   "display_name": "Python 3 (ipykernel)"
  },
  "language_info": {
   "name": "python"
  }
 },
 "cells": [
  {
   "cell_type": "code",
   "source": [
    "import os\n",
    "import random\n",
    "import shutil\n",
    "import warnings\n",
    "\n",
    "import numpy as np\n",
    "import pandas as pd\n",
    "from sklearn import linear_model\n",
    "from sklearn.impute import SimpleImputer, KNNImputer\n",
    "\n",
    "from library.A_data_collection import make_dataset_for_regression\n",
    "from library.D_data_analysis import regression\n",
    "from library.my_functions import pollute_data_mcar, \\\n",
    "    pollute_data_mcar_for_each_feature_in_incremental_way, pollute_data_mnar, plot_results, \\\n",
    "    pollute_data_for_distinctness_issues_among_different_features, pollute_data_with_random_noise, \\\n",
    "    pollute_data_with_categorical_variables, pollute_data_with_outliers, \\\n",
    "    pollute_most_important_features, pollute_less_important_features, \\\n",
    "    pollute_data_mcar_for_one_feature, pollute_data_mar, \\\n",
    "    introduce_distinctness_to_dataframe  # , pollute_most_important_features\n",
    "\n",
    "warnings.simplefilter(action='ignore', category=FutureWarning)\n",
    "warnings.simplefilter(action='ignore', category=Warning)\n",
    "\n",
    "SEED = 2023\n",
    "random.seed(SEED)\n",
    "np.random.seed(SEED)"
   ],
   "metadata": {
    "id": "hLB30zzgiuOn"
   },
   "execution_count": null,
   "outputs": []
  },
  {
   "cell_type": "markdown",
   "source": [
    "# Completeness and Distinctness Issues in Regression"
   ],
   "metadata": {
    "id": "Yy3tL2hp3Vip"
   }
  },
  {
   "cell_type": "markdown",
   "source": [
    "N.B. For each DQ issue you are requested to generate 10 different experiments\n",
    "1 experiment to correspond to the generation of a plot/with related tables.\n",
    "For one experiment, the DQ issue assigned to your Group/you must be injected in your data with a different %.\n",
    "Following, detailed guidelines on which are the expected results for each assigned DQ issue:\n",
    "\n",
    "Completeness\n",
    "- consider both Missing Not at Random (MNAR) and Missing Completely at Random (MCAR) missing\n",
    "value distributions\n",
    "- Ten experiments with a different distribution of missing values: for example, you can distribute the missing\n",
    "values uniformly across all columns, or change the percentage of missing values for columns with different\n",
    "informativeness (changing the default parameter in the data collection). Try to think of a way to simulate\n",
    "also MNAR distributions!\n",
    "- For one experiment: varying % of missing values, for example, from 5% to 50% (with an increasing step\n",
    "of 5%) of injected missing values\n",
    "\n",
    "Distinctness\n",
    "- Ten experiments with a different number of polluted features: for example, substituting/polluting a different\n",
    "number of the original features, or adding more and more features\n",
    "- For one experiment: varying % of distinctness, from very low distinctness (all values constant) to very\n",
    "high (all unique values)\n",
    "- You can also try to combine low distinctness and high-distinctness columns in some experiments\n",
    "\n",
    "\n",
    "Data Preparation is requested for Completeness.\n",
    "Select one/more data preparation techniques that we have seen at exercise lectures and implement it/them inside the pipeline.\n",
    "For Completeness, apply Data Imputation."
   ],
   "metadata": {
    "id": "eAuu1Zj95nk6"
   }
  },
  {
   "cell_type": "markdown",
   "source": [
    "## List of algorithms for regression"
   ],
   "metadata": {
    "collapsed": false
   }
  },
  {
   "cell_type": "code",
   "outputs": [],
   "source": [
    "REGRESSION_ALGORITHMS = [\n",
    "    \"LinearRegressor\", \"BayesianRidge\", \"GPRegressor\", \"SVMRegressor\", \"KNNRegressor\",\n",
    "    \"MLPRegressor\"\n",
    "]"
   ],
   "metadata": {
    "collapsed": false
   },
   "execution_count": null
  },
  {
   "cell_type": "markdown",
   "source": [
    "# COMPLETENESS"
   ],
   "metadata": {
    "collapsed": false
   }
  },
  {
   "cell_type": "markdown",
   "source": [
    "## Experiment 0. Completeness - Baseline with complete data"
   ],
   "metadata": {
    "collapsed": false
   }
  },
  {
   "cell_type": "code",
   "outputs": [],
   "source": [
    "DESCRIPTION = 'Completeness - Baseline with complete data with increasing dataset'\n",
    "X_LABEL = \"Number of samples\"\n",
    "\n",
    "RESULTS_PER_ALGORITHM = []\n",
    "X_AXIS = [1000 + (n * 10) for n in range(1, 11)]\n",
    "\n",
    "for algorithm in REGRESSION_ALGORITHMS:\n",
    "    RESULTS_ALGORITHM = []\n",
    "\n",
    "    for i in range(len(X_AXIS)):\n",
    "        # DATA COLLECTION - creating 10 datasets with an increase in the samples\n",
    "        X, y = make_dataset_for_regression(\n",
    "            n_samples=1000 + (i * 10), n_features=3, n_informative=3, n_targets=1,\n",
    "            bias=0.0, effective_rank=None, tail_strength=0.5, noise=0.0, seed=2023\n",
    "        )\n",
    "\n",
    "        X = pd.DataFrame(X)\n",
    "\n",
    "        # DATA ANALYSIS\n",
    "        RESULTS_ALGORITHM.append(regression(X, y, algorithm, SEED))\n",
    "\n",
    "    RESULTS_PER_ALGORITHM.append(RESULTS_ALGORITHM)\n",
    "\n",
    "plot_results(\n",
    "    x_axis_values=X_AXIS, x_label=X_LABEL, results=RESULTS_PER_ALGORITHM, title=DESCRIPTION,\n",
    "    algorithms=REGRESSION_ALGORITHMS\n",
    ")"
   ],
   "metadata": {
    "collapsed": false
   }
  },
  {
   "cell_type": "markdown",
   "source": [
    "## Experiment 1. Completeness - MCAR with different low percentages"
   ],
   "metadata": {
    "collapsed": false
   }
  },
  {
   "cell_type": "code",
   "source": [
    "DESCRIPTION = 'Completeness - MCAR with different low percentages'\n",
    "X_LABEL = \"Percentage of missing values\"\n",
    "\n",
    "RESULTS_PER_ALGORITHM = []\n",
    "X_AXIS = [n * 0.025 for n in range(1, 11)]\n",
    "\n",
    "for algorithm in REGRESSION_ALGORITHMS:\n",
    "    RESULTS_ALGORITHM = []\n",
    "\n",
    "    for i in range(len(X_AXIS)):\n",
    "        # DATA COLLECTION - creating 10 datasets with an increase in the samples\n",
    "        X, y = make_dataset_for_regression(\n",
    "            n_samples=1000, n_features=3, n_informative=3, n_targets=1,\n",
    "            bias=0.0, effective_rank=None, tail_strength=0.5, noise=0.0, seed=2023\n",
    "        )\n",
    "\n",
    "        X = pd.DataFrame(X)\n",
    "\n",
    "        pollute_data_mcar(X, percent_incomplete=X_AXIS[i])\n",
    "\n",
    "        # DATA ANALYSIS\n",
    "        RESULTS_ALGORITHM.append(regression(X, y, algorithm, SEED))\n",
    "\n",
    "    RESULTS_PER_ALGORITHM.append(RESULTS_ALGORITHM)\n",
    "\n",
    "plot_results(\n",
    "    x_axis_values=X_AXIS, x_label=X_LABEL, results=RESULTS_PER_ALGORITHM, title=DESCRIPTION,\n",
    "    algorithms=REGRESSION_ALGORITHMS\n",
    ")"
   ],
   "metadata": {
    "id": "XAquGMCB4zto"
   },
   "execution_count": null,
   "outputs": []
  },
  {
   "cell_type": "code",
   "outputs": [],
   "source": [
    "RESULTS_PER_ALGORITHM = []\n",
    "\n",
    "SI = SimpleImputer(missing_values=np.NaN, strategy=\"median\")  # as fillna - mean\n",
    "\n",
    "for algorithm in REGRESSION_ALGORITHMS:  # FIRST CYCLE ON THE ALGORITHMS\n",
    "    RESULTS_ALGORITHM = []\n",
    "\n",
    "    for i in range(len(X_AXIS)):\n",
    "        # DATA COLLECTION - creating 10 datasets with an increase in the samples\n",
    "        X, y = make_dataset_for_regression(\n",
    "            n_samples=1000, n_features=3, n_informative=3, n_targets=1, bias=0.0,\n",
    "            effective_rank=None, tail_strength=0.5, noise=0.0, seed=2023\n",
    "        )\n",
    "        X = pd.DataFrame(X)\n",
    "\n",
    "        pollute_data_mcar(X, percent_incomplete=X_AXIS[i])\n",
    "        X_CLEAN = SI.fit_transform(X)\n",
    "\n",
    "        # DATA ANALYSIS\n",
    "        RESULTS_ALGORITHM.append(regression(X_CLEAN, y, algorithm, SEED))\n",
    "\n",
    "    RESULTS_PER_ALGORITHM.append(RESULTS_ALGORITHM)\n",
    "\n",
    "plot_results(\n",
    "    x_axis_values=X_AXIS, x_label=X_LABEL, results=RESULTS_PER_ALGORITHM, title=DESCRIPTION,\n",
    "    algorithms=REGRESSION_ALGORITHMS, cleaned_data=True\n",
    ")"
   ],
   "metadata": {
    "id": "A_6y6jv9zLdY"
   },
   "execution_count": null
  },
  {
   "cell_type": "markdown",
   "source": [
    "## Experiment 2. Completeness - MCAR with different high percentages"
   ],
   "metadata": {
    "collapsed": false
   }
  },
  {
   "cell_type": "code",
   "outputs": [],
   "source": [
    "DESCRIPTION = 'Completeness - MCAR with different high percentages'\n",
    "X_LABEL = \"Percentage of missing values\"\n",
    "\n",
    "RESULTS_PER_ALGORITHM = []\n",
    "X_AXIS = [n * 0.025 for n in range(11, 21)]\n",
    "\n",
    "for algorithm in REGRESSION_ALGORITHMS:\n",
    "    RESULTS_ALGORITHM = []\n",
    "\n",
    "    for i in range(len(X_AXIS)):\n",
    "        # DATA COLLECTION - creating 10 datasets with an increase in the samples\n",
    "        X, y = make_dataset_for_regression(\n",
    "            n_samples=1000, n_features=3, n_informative=3, n_targets=1,\n",
    "            bias=0.0, effective_rank=None, tail_strength=0.5, noise=0.0, seed=2023\n",
    "        )\n",
    "\n",
    "        X = pd.DataFrame(X)\n",
    "\n",
    "        pollute_data_mcar(X, percent_incomplete=X_AXIS[i])\n",
    "\n",
    "        # DATA ANALYSIS\n",
    "        RESULTS_ALGORITHM.append(regression(X, y, algorithm, SEED))\n",
    "\n",
    "    RESULTS_PER_ALGORITHM.append(RESULTS_ALGORITHM)\n",
    "\n",
    "plot_results(\n",
    "    x_axis_values=X_AXIS, x_label=X_LABEL, results=RESULTS_PER_ALGORITHM, title=DESCRIPTION,\n",
    "    algorithms=REGRESSION_ALGORITHMS\n",
    ")"
   ],
   "metadata": {
    "collapsed": false
   }
  },
  {
   "cell_type": "code",
   "outputs": [],
   "source": [
    "RESULTS_PER_ALGORITHM = []\n",
    "\n",
    "SI = SimpleImputer(missing_values=np.NaN, strategy=\"median\")  # as fillna - mean\n",
    "\n",
    "for algorithm in REGRESSION_ALGORITHMS:  # FIRST CYCLE ON THE ALGORITHMS\n",
    "    RESULTS_ALGORITHM = []\n",
    "\n",
    "    for i in range(len(X_AXIS)):\n",
    "        # DATA COLLECTION - creating 10 datasets with an increase in the samples\n",
    "        X, y = make_dataset_for_regression(\n",
    "            n_samples=1000, n_features=3, n_informative=3, n_targets=1, bias=0.0,\n",
    "            effective_rank=None, tail_strength=0.5, noise=0.0, seed=2023\n",
    "        )\n",
    "        X = pd.DataFrame(X)\n",
    "\n",
    "        pollute_data_mcar(X, percent_incomplete=X_AXIS[i])\n",
    "        X_CLEAN = SI.fit_transform(X)\n",
    "\n",
    "        # DATA ANALYSIS\n",
    "        RESULTS_ALGORITHM.append(regression(X_CLEAN, y, algorithm, SEED))\n",
    "\n",
    "    RESULTS_PER_ALGORITHM.append(RESULTS_ALGORITHM)\n",
    "\n",
    "plot_results(\n",
    "    x_axis_values=X_AXIS, x_label=X_LABEL, results=RESULTS_PER_ALGORITHM, title=DESCRIPTION,\n",
    "    algorithms=REGRESSION_ALGORITHMS, cleaned_data=True\n",
    ")"
   ],
   "metadata": {
    "collapsed": false
   }
  },
  {
   "cell_type": "markdown",
   "source": [
    "## Experiment 3. Completeness - fixed MCAR for different features in the dataset with different imputations"
   ],
   "metadata": {
    "collapsed": false
   }
  },
  {
   "cell_type": "code",
   "outputs": [],
   "source": [
    "DESCRIPTION = 'Completeness - fixed MCAR for different features in the dataset with different imputations'\n",
    "X_LABEL = \"Feature MCAR\"\n",
    "\n",
    "RESULTS_PER_ALGORITHM = []\n",
    "X_AXIS = range(0, 10)\n",
    "\n",
    "for algorithm in REGRESSION_ALGORITHMS:\n",
    "    RESULTS_ALGORITHM = []\n",
    "\n",
    "    for i in range(len(X_AXIS)):\n",
    "        # DATA COLLECTION - creating 10 datasets with an increase in the samples\n",
    "        X, y = make_dataset_for_regression(\n",
    "            n_samples=1000, n_features=10, n_informative=10, n_targets=1,\n",
    "            bias=0.0, effective_rank=None, tail_strength=0.5, noise=0.0, seed=2023\n",
    "        )\n",
    "\n",
    "        X = pd.DataFrame(X)\n",
    "\n",
    "        pollute_data_mcar_for_one_feature(X, i, percent_incomplete=0.2)\n",
    "\n",
    "        # DATA ANALYSIS\n",
    "        RESULTS_ALGORITHM.append(regression(X, y, algorithm, SEED))\n",
    "\n",
    "    RESULTS_PER_ALGORITHM.append(RESULTS_ALGORITHM)\n",
    "\n",
    "plot_results(\n",
    "    x_axis_values=X_AXIS, x_label=X_LABEL, results=RESULTS_PER_ALGORITHM, title=DESCRIPTION,\n",
    "    algorithms=REGRESSION_ALGORITHMS\n",
    ")"
   ],
   "metadata": {
    "collapsed": false
   },
   "execution_count": null
  },
  {
   "cell_type": "code",
   "outputs": [],
   "source": [
    "DESCRIPTION = 'Completeness - fixed MCAR for different features imputing the median'\n",
    "RESULTS_PER_ALGORITHM = []\n",
    "\n",
    "SI = SimpleImputer(missing_values=np.NaN, strategy=\"median\")  # as fillna - mean\n",
    "\n",
    "for algorithm in REGRESSION_ALGORITHMS:  # FIRST CYCLE ON THE ALGORITHMS\n",
    "    RESULTS_ALGORITHM = []\n",
    "\n",
    "    for i in range(len(X_AXIS)):\n",
    "        # DATA COLLECTION - creating 10 datasets with an increase in the samples\n",
    "        X, y = make_dataset_for_regression(\n",
    "            n_samples=1000, n_features=10, n_informative=10, n_targets=1, bias=0.0,\n",
    "            effective_rank=None, tail_strength=0.5, noise=0.0, seed=2023\n",
    "        )\n",
    "        \n",
    "        X = pd.DataFrame(X)\n",
    "\n",
    "        pollute_data_mcar_for_one_feature(X, i, percent_incomplete=0.2)\n",
    "        X_CLEAN = SI.fit_transform(X)\n",
    "\n",
    "        # DATA ANALYSIS\n",
    "        RESULTS_ALGORITHM.append(regression(X_CLEAN, y, algorithm, SEED))\n",
    "\n",
    "    RESULTS_PER_ALGORITHM.append(RESULTS_ALGORITHM)\n",
    "\n",
    "plot_results(\n",
    "    x_axis_values=X_AXIS, x_label=X_LABEL, results=RESULTS_PER_ALGORITHM, title=DESCRIPTION,\n",
    "    algorithms=REGRESSION_ALGORITHMS, cleaned_data=True\n",
    ")"
   ],
   "metadata": {
    "collapsed": false
   },
   "execution_count": null
  },
  {
   "cell_type": "code",
   "outputs": [],
   "source": [
    "DESCRIPTION = 'Completeness - fixed MCAR for different features imputing the most frequent value'\n",
    "RESULTS_PER_ALGORITHM = []\n",
    "\n",
    "SI = SimpleImputer(missing_values=np.NaN, strategy=\"most_frequent\")  # as fillna - mean\n",
    "\n",
    "for algorithm in REGRESSION_ALGORITHMS:  # FIRST CYCLE ON THE ALGORITHMS\n",
    "    RESULTS_ALGORITHM = []\n",
    "\n",
    "    for i in range(len(X_AXIS)):\n",
    "        # DATA COLLECTION - creating 10 datasets with an increase in the samples\n",
    "        X, y = make_dataset_for_regression(\n",
    "            n_samples=1000, n_features=10, n_informative=10, n_targets=1, bias=0.0,\n",
    "            effective_rank=None, tail_strength=0.5, noise=0.0, seed=2023\n",
    "        )\n",
    "\n",
    "        X = pd.DataFrame(X)\n",
    "\n",
    "        pollute_data_mcar_for_one_feature(X, i, percent_incomplete=0.2)\n",
    "        X_CLEAN = SI.fit_transform(X)\n",
    "\n",
    "        # DATA ANALYSIS\n",
    "        RESULTS_ALGORITHM.append(regression(X_CLEAN, y, algorithm, SEED))\n",
    "\n",
    "    RESULTS_PER_ALGORITHM.append(RESULTS_ALGORITHM)\n",
    "\n",
    "plot_results(\n",
    "    x_axis_values=X_AXIS, x_label=X_LABEL, results=RESULTS_PER_ALGORITHM, title=DESCRIPTION,\n",
    "    algorithms=REGRESSION_ALGORITHMS, cleaned_data=True\n",
    ")"
   ],
   "metadata": {
    "collapsed": false
   },
   "execution_count": null
  },
  {
   "cell_type": "code",
   "outputs": [],
   "source": [
    "DESCRIPTION = 'Completeness - fixed MCAR for different features imputing the mean'\n",
    "RESULTS_PER_ALGORITHM = []\n",
    "\n",
    "SI = SimpleImputer(missing_values=np.NaN, strategy=\"mean\")  # as fillna - mean\n",
    "\n",
    "for algorithm in REGRESSION_ALGORITHMS:  # FIRST CYCLE ON THE ALGORITHMS\n",
    "    RESULTS_ALGORITHM = []\n",
    "\n",
    "    for i in range(len(X_AXIS)):\n",
    "        # DATA COLLECTION - creating 10 datasets with an increase in the samples\n",
    "        X, y = make_dataset_for_regression(\n",
    "            n_samples=1000, n_features=10, n_informative=10, n_targets=1, bias=0.0,\n",
    "            effective_rank=None, tail_strength=0.5, noise=0.0, seed=2023\n",
    "        )\n",
    "\n",
    "        X = pd.DataFrame(X)\n",
    "\n",
    "        pollute_data_mcar_for_one_feature(X, i, percent_incomplete=0.2)\n",
    "        X_CLEAN = SI.fit_transform(X)\n",
    "\n",
    "        # DATA ANALYSIS\n",
    "        RESULTS_ALGORITHM.append(regression(X_CLEAN, y, algorithm, SEED))\n",
    "\n",
    "    RESULTS_PER_ALGORITHM.append(RESULTS_ALGORITHM)\n",
    "\n",
    "plot_results(\n",
    "    x_axis_values=X_AXIS, x_label=X_LABEL, results=RESULTS_PER_ALGORITHM, title=DESCRIPTION,\n",
    "    algorithms=REGRESSION_ALGORITHMS, cleaned_data=True\n",
    ")"
   ],
   "metadata": {
    "collapsed": false
   },
   "execution_count": null
  },
  {
   "cell_type": "code",
   "outputs": [],
   "source": [
    "DESCRIPTION = 'Completeness - fixed MCAR for different features imputing the standard deviation'\n",
    "RESULTS_PER_ALGORITHM = []\n",
    "\n",
    "for algorithm in REGRESSION_ALGORITHMS:  # FIRST CYCLE ON THE ALGORITHMS\n",
    "    RESULTS_ALGORITHM = []\n",
    "\n",
    "    for i in range(len(X_AXIS)):\n",
    "        # DATA COLLECTION - creating 10 datasets with an increase in the samples\n",
    "        X, y = make_dataset_for_regression(\n",
    "            n_samples=1000, n_features=10, n_informative=10, n_targets=1, bias=0.0,\n",
    "            effective_rank=None, tail_strength=0.5, noise=0.0, seed=2023\n",
    "        )\n",
    "\n",
    "        X = pd.DataFrame(X)\n",
    "\n",
    "        pollute_data_mcar_for_one_feature(X, i, percent_incomplete=0.2)\n",
    "        \n",
    "        X_CLEAN = X.copy()\n",
    "        X_CLEAN[i].fillna(X_CLEAN[i].std())\n",
    "\n",
    "        # DATA ANALYSIS\n",
    "        RESULTS_ALGORITHM.append(regression(X_CLEAN, y, algorithm, SEED))\n",
    "\n",
    "    RESULTS_PER_ALGORITHM.append(RESULTS_ALGORITHM)\n",
    "\n",
    "plot_results(\n",
    "    x_axis_values=X_AXIS, x_label=X_LABEL, results=RESULTS_PER_ALGORITHM, title=DESCRIPTION,\n",
    "    algorithms=REGRESSION_ALGORITHMS, cleaned_data=True\n",
    ")"
   ],
   "metadata": {
    "collapsed": false
   },
   "execution_count": null
  },
  {
   "cell_type": "code",
   "outputs": [],
   "source": [
    "DESCRIPTION = 'Completeness - fixed MCAR for different features imputing with KNN'\n",
    "RESULTS_PER_ALGORITHM = []\n",
    "\n",
    "IMPUTER = KNNImputer(n_neighbors=5)\n",
    "\n",
    "for algorithm in REGRESSION_ALGORITHMS:  # FIRST CYCLE ON THE ALGORITHMS\n",
    "    RESULTS_ALGORITHM = []\n",
    "\n",
    "    for i in range(len(X_AXIS)):\n",
    "        # DATA COLLECTION - creating 10 datasets with an increase in the samples\n",
    "        X, y = make_dataset_for_regression(\n",
    "            n_samples=1000, n_features=10, n_informative=10, n_targets=1, bias=0.0,\n",
    "            effective_rank=None, tail_strength=0.5, noise=0.0, seed=2023\n",
    "        )\n",
    "\n",
    "        X = pd.DataFrame(X)\n",
    "\n",
    "        pollute_data_mcar_for_one_feature(X, i, percent_incomplete=0.2)\n",
    "\n",
    "        df = X.copy()\n",
    "        \n",
    "        df_knn = pd.DataFrame(IMPUTER.fit_transform(df))\n",
    "        df_knn.columns = df.columns #Retransforming it in a DF with the same columns\n",
    "        X_CLEAN = X.copy()\n",
    "        X_CLEAN[i] = df_knn[i]\n",
    "\n",
    "        # DATA ANALYSIS\n",
    "        RESULTS_ALGORITHM.append(regression(X_CLEAN, y, algorithm, SEED))\n",
    "\n",
    "    RESULTS_PER_ALGORITHM.append(RESULTS_ALGORITHM)\n",
    "\n",
    "plot_results(\n",
    "    x_axis_values=X_AXIS, x_label=X_LABEL, results=RESULTS_PER_ALGORITHM, title=DESCRIPTION,\n",
    "    algorithms=REGRESSION_ALGORITHMS, cleaned_data=True\n",
    ")"
   ],
   "metadata": {
    "collapsed": false
   },
   "execution_count": null
  },
  {
   "cell_type": "code",
   "outputs": [],
   "source": [
    "DESCRIPTION = 'Completeness - fixed MCAR for different features imputing with Linear Regression'\n",
    "RESULTS_PER_ALGORITHM = []\n",
    "\n",
    "IMPUTER = KNNImputer(n_neighbors=5)\n",
    "\n",
    "for algorithm in REGRESSION_ALGORITHMS:  # FIRST CYCLE ON THE ALGORITHMS\n",
    "    RESULTS_ALGORITHM = []\n",
    "\n",
    "    for i in range(len(X_AXIS)):\n",
    "        # DATA COLLECTION - creating 10 datasets with an increase in the samples\n",
    "        X, y = make_dataset_for_regression(\n",
    "            n_samples=1000, n_features=10, n_informative=10, n_targets=1, bias=0.0,\n",
    "            effective_rank=None, tail_strength=0.5, noise=0.0, seed=2023\n",
    "        )\n",
    "\n",
    "        X = pd.DataFrame(X)\n",
    "\n",
    "        pollute_data_mcar_for_one_feature(X, i, percent_incomplete=0.2)\n",
    "\n",
    "        #Create a Linear Regression model to estimate the missing data\n",
    "        model = linear_model.LinearRegression()\n",
    "\n",
    "        #First extract one of the columns as target value, which will be the target of the current prediction. \n",
    "        # For the rest of the columns, we will apply random imputation and will use them as the training dataset to feed to the Machine Learning algorithm, and obtain a prediction of the target column, to impute its missing values.\n",
    "        target = X[i]\n",
    "        training = X.drop(columns=[i])\n",
    "        \n",
    "        training = training[target.notnull()]\n",
    "        target = target[target.notnull()]\n",
    "        \n",
    "        training = training.fillna(training.mean())\n",
    "        model.fit(training, target)\n",
    "        model_predicted = model.predict(training)\n",
    "        \n",
    "        X_CLEAN = X.copy()\n",
    "        X_CLEAN[i].fillna(pd.Series(model_predicted))\n",
    "\n",
    "        # DATA ANALYSIS\n",
    "        RESULTS_ALGORITHM.append(regression(X_CLEAN, y, algorithm, SEED))\n",
    "\n",
    "    RESULTS_PER_ALGORITHM.append(RESULTS_ALGORITHM)\n",
    "\n",
    "plot_results(\n",
    "    x_axis_values=X_AXIS, x_label=X_LABEL, results=RESULTS_PER_ALGORITHM, title=DESCRIPTION,\n",
    "    algorithms=REGRESSION_ALGORITHMS, cleaned_data=True\n",
    ")"
   ],
   "metadata": {
    "collapsed": false
   },
   "execution_count": null
  },
  {
   "cell_type": "markdown",
   "source": [
    "## Experiment 4. Completeness - MCAR for each feature in an increasing dataset"
   ],
   "metadata": {
    "collapsed": false
   }
  },
  {
   "cell_type": "code",
   "outputs": [],
   "source": [
    "DESCRIPTION = 'Completeness - MCAR for each feature in an increasing dataset'\n",
    "X_LABEL = \"Number of samples\"\n",
    "\n",
    "RESULTS_PER_ALGORITHM = []\n",
    "X_AXIS = [1000 + (n * 10) for n in range(1, 11)]\n",
    "\n",
    "for algorithm in REGRESSION_ALGORITHMS:\n",
    "    RESULTS_ALGORITHM = []\n",
    "\n",
    "    for i in range(len(X_AXIS)):\n",
    "        # DATA COLLECTION - creating 10 datasets with an increase in the samples\n",
    "        X, y = make_dataset_for_regression(\n",
    "            n_samples=1000 + (i * 10), n_features=5, n_informative=3, n_targets=1,\n",
    "            bias=0.0, effective_rank=None, tail_strength=0.5, noise=0.0, seed=2023\n",
    "        )\n",
    "\n",
    "        X = pd.DataFrame(X)\n",
    "\n",
    "        pollute_data_mcar_for_each_feature_in_incremental_way(X)\n",
    "\n",
    "        # DATA ANALYSIS\n",
    "        RESULTS_ALGORITHM.append(regression(X, y, algorithm, SEED))\n",
    "\n",
    "    RESULTS_PER_ALGORITHM.append(RESULTS_ALGORITHM)\n",
    "\n",
    "plot_results(\n",
    "    x_axis_values=X_AXIS, x_label=X_LABEL, results=RESULTS_PER_ALGORITHM, title=DESCRIPTION,\n",
    "    algorithms=REGRESSION_ALGORITHMS\n",
    ")"
   ],
   "metadata": {
    "collapsed": false
   },
   "execution_count": null
  },
  {
   "cell_type": "code",
   "outputs": [],
   "source": [
    "RESULTS_PER_ALGORITHM = []\n",
    "\n",
    "SI = SimpleImputer(missing_values=np.NaN, strategy=\"median\")  # as fillna - mean\n",
    "\n",
    "for algorithm in REGRESSION_ALGORITHMS:\n",
    "    RESULTS_ALGORITHM = []\n",
    "\n",
    "    for i in range(len(X_AXIS)):\n",
    "        # DATA COLLECTION - creating 10 datasets with an increase in the samples\n",
    "        X, y = make_dataset_for_regression(\n",
    "            n_samples=1000 + (i * 10), n_features=5, n_informative=3, n_targets=1,\n",
    "            bias=0.0, effective_rank=None, tail_strength=0.5, noise=0.0, seed=2023\n",
    "        )\n",
    "\n",
    "        X = pd.DataFrame(X)\n",
    "\n",
    "        pollute_data_mcar_for_each_feature_in_incremental_way(X)\n",
    "\n",
    "        X_CLEAN = SI.fit_transform(X)\n",
    "\n",
    "        # DATA ANALYSIS\n",
    "        RESULTS_ALGORITHM.append(regression(X_CLEAN, y, algorithm, SEED))\n",
    "\n",
    "    RESULTS_PER_ALGORITHM.append(RESULTS_ALGORITHM)\n",
    "\n",
    "plot_results(\n",
    "    x_axis_values=X_AXIS, x_label=X_LABEL, results=RESULTS_PER_ALGORITHM, title=DESCRIPTION,\n",
    "    algorithms=REGRESSION_ALGORITHMS, cleaned_data=True\n",
    ")"
   ],
   "metadata": {
    "collapsed": false
   },
   "execution_count": null
  },
  {
   "cell_type": "markdown",
   "source": [
    "## Experiment 5: Completeness - Different percentages of values MAR"
   ],
   "metadata": {
    "collapsed": false
   }
  },
  {
   "cell_type": "code",
   "outputs": [],
   "source": [
    "DESCRIPTION = 'Completeness - Different percentages of values MAR'\n",
    "X_LABEL = \"Number of samples\"\n",
    "\n",
    "RESULTS_PER_ALGORITHM = []\n",
    "X_AXIS = [1000 + (n * 10) for n in range(1, 11)]\n",
    "\n",
    "for algorithm in REGRESSION_ALGORITHMS:\n",
    "    RESULTS_ALGORITHM = []\n",
    "\n",
    "    for i in range(len(X_AXIS)):\n",
    "        # DATA COLLECTION - creating 10 datasets with an increase in the samples\n",
    "        X, y = make_dataset_for_regression(\n",
    "            n_samples=1000 + (i * 10), n_features=3, n_informative=3, n_targets=1,\n",
    "            bias=0.0, effective_rank=None, tail_strength=0.5, noise=0.0, seed=2023\n",
    "        )\n",
    "\n",
    "        X = pd.DataFrame(X)\n",
    "\n",
    "        pollute_data_mar(X, 1, 2)\n",
    "\n",
    "        # DATA ANALYSIS\n",
    "        RESULTS_ALGORITHM.append(regression(X, y, algorithm, SEED))\n",
    "\n",
    "    RESULTS_PER_ALGORITHM.append(RESULTS_ALGORITHM)\n",
    "\n",
    "plot_results(\n",
    "    x_axis_values=X_AXIS, x_label=X_LABEL, results=RESULTS_PER_ALGORITHM, title=DESCRIPTION,\n",
    "    algorithms=REGRESSION_ALGORITHMS\n",
    ")"
   ],
   "metadata": {
    "collapsed": false
   },
   "execution_count": null
  },
  {
   "cell_type": "code",
   "outputs": [],
   "source": [
    "RESULTS_PER_ALGORITHM = []\n",
    "\n",
    "SI = SimpleImputer(missing_values=np.NaN, strategy=\"median\")  # as fillna - mean\n",
    "\n",
    "for algorithm in REGRESSION_ALGORITHMS:\n",
    "    RESULTS_ALGORITHM = []\n",
    "\n",
    "    for i in range(len(X_AXIS)):\n",
    "        # DATA COLLECTION - creating 10 datasets with an increase in the samples\n",
    "        X, y = make_dataset_for_regression(\n",
    "            n_samples=1000 + (i * 10), n_features=3, n_informative=3, n_targets=1,\n",
    "            bias=0.0, effective_rank=None, tail_strength=0.5, noise=0.0, seed=2023\n",
    "        )\n",
    "\n",
    "        X = pd.DataFrame(X)\n",
    "\n",
    "        pollute_data_mar(X, 1, 2)\n",
    "\n",
    "        X_CLEAN = SI.fit_transform(X)\n",
    "\n",
    "        # DATA ANALYSIS\n",
    "        RESULTS_ALGORITHM.append(regression(X_CLEAN, y, algorithm, SEED))\n",
    "\n",
    "    RESULTS_PER_ALGORITHM.append(RESULTS_ALGORITHM)\n",
    "\n",
    "plot_results(\n",
    "    x_axis_values=X_AXIS, x_label=X_LABEL, results=RESULTS_PER_ALGORITHM, title=DESCRIPTION,\n",
    "    algorithms=REGRESSION_ALGORITHMS, cleaned_data=True\n",
    ")"
   ],
   "metadata": {
    "collapsed": false
   },
   "execution_count": null
  },
  {
   "cell_type": "markdown",
   "source": [
    "## Experiment 6: Completeness - Different percentages of values MNAR"
   ],
   "metadata": {
    "collapsed": false
   }
  },
  {
   "cell_type": "code",
   "outputs": [],
   "source": [
    "DESCRIPTION = 'Completeness - Different percentages of values MNAR'\n",
    "X_LABEL = \"Number of samples\"\n",
    "\n",
    "RESULTS_PER_ALGORITHM = []\n",
    "X_AXIS = [1000 + (n * 10) for n in range(1, 11)]\n",
    "\n",
    "for algorithm in REGRESSION_ALGORITHMS:\n",
    "    RESULTS_ALGORITHM = []\n",
    "\n",
    "    for i in range(len(X_AXIS)):\n",
    "        # DATA COLLECTION - creating 10 datasets with an increase in the samples\n",
    "        X, y = make_dataset_for_regression(\n",
    "            n_samples=1000 + (i * 10), n_features=3, n_informative=3, n_targets=1,\n",
    "            bias=0.0, effective_rank=None, tail_strength=0.5, noise=0.0, seed=2023\n",
    "        )\n",
    "\n",
    "        X = pd.DataFrame(X)\n",
    "\n",
    "        pollute_data_mnar(X, 1)\n",
    "\n",
    "        # DATA ANALYSIS\n",
    "        RESULTS_ALGORITHM.append(regression(X, y, algorithm, SEED))\n",
    "\n",
    "    RESULTS_PER_ALGORITHM.append(RESULTS_ALGORITHM)\n",
    "\n",
    "plot_results(\n",
    "    x_axis_values=X_AXIS, x_label=X_LABEL, results=RESULTS_PER_ALGORITHM, title=DESCRIPTION,\n",
    "    algorithms=REGRESSION_ALGORITHMS\n",
    ")"
   ],
   "metadata": {
    "collapsed": false
   }
  },
  {
   "cell_type": "code",
   "outputs": [],
   "source": [
    "RESULTS_PER_ALGORITHM = []\n",
    "\n",
    "SI = SimpleImputer(missing_values=np.NaN, strategy=\"median\")  # as fillna - mean\n",
    "\n",
    "for algorithm in REGRESSION_ALGORITHMS:\n",
    "    RESULTS_ALGORITHM = []\n",
    "\n",
    "    for i in range(len(X_AXIS)):\n",
    "        # DATA COLLECTION - creating 10 datasets with an increase in the samples\n",
    "        X, y = make_dataset_for_regression(\n",
    "            n_samples=1000 + (i * 10), n_features=3, n_informative=3, n_targets=1,\n",
    "            bias=0.0, effective_rank=None, tail_strength=0.5, noise=0.0, seed=2023\n",
    "        )\n",
    "\n",
    "        X = pd.DataFrame(X)\n",
    "\n",
    "        pollute_data_mnar(X, 1)\n",
    "\n",
    "        X_CLEAN = SI.fit_transform(X)\n",
    "\n",
    "        # DATA ANALYSIS\n",
    "        RESULTS_ALGORITHM.append(regression(X_CLEAN, y, algorithm, SEED))\n",
    "\n",
    "    RESULTS_PER_ALGORITHM.append(RESULTS_ALGORITHM)\n",
    "\n",
    "plot_results(\n",
    "    x_axis_values=X_AXIS, x_label=X_LABEL, results=RESULTS_PER_ALGORITHM, title=DESCRIPTION,\n",
    "    algorithms=REGRESSION_ALGORITHMS, cleaned_data=True\n",
    ")"
   ],
   "metadata": {
    "collapsed": false
   }
  },
  {
   "cell_type": "markdown",
   "source": [
    "## Experiment 7: Completeness - Different percentages of values MCAR for the most informative features"
   ],
   "metadata": {
    "collapsed": false
   }
  },
  {
   "cell_type": "code",
   "outputs": [],
   "source": [
    "DESCRIPTION = 'Completeness - MCAR for the most informative features'\n",
    "X_LABEL = \"Percentage of missing values\"\n",
    "\n",
    "RESULTS_PER_ALGORITHM = []\n",
    "X_AXIS = [n * 0.05 for n in range(1, 11)]\n",
    "\n",
    "for algorithm in REGRESSION_ALGORITHMS:\n",
    "    RESULTS_ALGORITHM = []\n",
    "\n",
    "    for i in range(len(X_AXIS)):\n",
    "        # DATA COLLECTION - creating 10 datasets with an increase in the samples\n",
    "        X, y = make_dataset_for_regression(\n",
    "            n_samples=1000, n_features=9, n_informative=4, n_targets=1,\n",
    "            bias=0.0, effective_rank=None, tail_strength=0.5, noise=0.0, seed=2023\n",
    "        )\n",
    "\n",
    "        X = pd.DataFrame(X)\n",
    "\n",
    "        X = pollute_most_important_features(X, y, percentage=X_AXIS[i])\n",
    "\n",
    "        # DATA ANALYSIS\n",
    "        RESULTS_ALGORITHM.append(regression(X, y, algorithm, SEED))\n",
    "\n",
    "    RESULTS_PER_ALGORITHM.append(RESULTS_ALGORITHM)\n",
    "\n",
    "plot_results(\n",
    "    x_axis_values=X_AXIS, x_label=X_LABEL, results=RESULTS_PER_ALGORITHM, title=DESCRIPTION,\n",
    "    algorithms=REGRESSION_ALGORITHMS\n",
    ")"
   ],
   "metadata": {
    "collapsed": false
   },
   "execution_count": null
  },
  {
   "cell_type": "code",
   "outputs": [],
   "source": [
    "RESULTS_PER_ALGORITHM = []\n",
    "\n",
    "SI = SimpleImputer(missing_values=np.NaN, strategy=\"median\")  # as fillna - mean\n",
    "\n",
    "for algorithm in REGRESSION_ALGORITHMS:\n",
    "    RESULTS_ALGORITHM = []\n",
    "\n",
    "    for i in range(len(X_AXIS)):\n",
    "        # DATA COLLECTION - creating 10 datasets with an increase in the samples\n",
    "        X, y = make_dataset_for_regression(\n",
    "            n_samples=1000, n_features=9, n_informative=4, n_targets=1,\n",
    "            bias=0.0, effective_rank=None, tail_strength=0.5, noise=0.0, seed=2023\n",
    "        )\n",
    "\n",
    "        X = pd.DataFrame(X)\n",
    "\n",
    "        X = pollute_most_important_features(X, y, percentage=X_AXIS[i])\n",
    "\n",
    "        X_CLEAN = SI.fit_transform(X)\n",
    "\n",
    "        # DATA ANALYSIS\n",
    "        RESULTS_ALGORITHM.append(regression(X_CLEAN, y, algorithm, SEED))\n",
    "\n",
    "    RESULTS_PER_ALGORITHM.append(RESULTS_ALGORITHM)\n",
    "\n",
    "plot_results(\n",
    "    x_axis_values=X_AXIS, x_label=X_LABEL, results=RESULTS_PER_ALGORITHM, title=DESCRIPTION,\n",
    "    algorithms=REGRESSION_ALGORITHMS, cleaned_data=True\n",
    ")"
   ],
   "metadata": {
    "collapsed": false
   }
  },
  {
   "cell_type": "markdown",
   "source": [
    "## Experiment 8: Different percentages of values MCAR for the less informative features"
   ],
   "metadata": {
    "collapsed": false
   }
  },
  {
   "cell_type": "code",
   "outputs": [],
   "source": [
    "DESCRIPTION = 'Completeness - MCAR for the less informative features'\n",
    "X_LABEL = \"Percentage of missing values\"\n",
    "\n",
    "RESULTS_PER_ALGORITHM = []\n",
    "X_AXIS = [n * 0.05 for n in range(1, 11)]\n",
    "\n",
    "for algorithm in REGRESSION_ALGORITHMS:\n",
    "    RESULTS_ALGORITHM = []\n",
    "\n",
    "    for i in range(len(X_AXIS)):\n",
    "        # DATA COLLECTION - creating 10 datasets with an increase in the samples\n",
    "        X, y = make_dataset_for_regression(\n",
    "            n_samples=1000, n_features=9, n_informative=4, n_targets=1,\n",
    "            bias=0.0, effective_rank=None, tail_strength=0.5, noise=0.0, seed=2023\n",
    "        )\n",
    "\n",
    "        X = pd.DataFrame(X)\n",
    "\n",
    "        X = pollute_less_important_features(X, y, percentage=X_AXIS[i])\n",
    "\n",
    "        # DATA ANALYSIS\n",
    "        RESULTS_ALGORITHM.append(regression(X, y, algorithm, SEED))\n",
    "\n",
    "    RESULTS_PER_ALGORITHM.append(RESULTS_ALGORITHM)\n",
    "\n",
    "plot_results(\n",
    "    x_axis_values=X_AXIS, x_label=X_LABEL, results=RESULTS_PER_ALGORITHM, title=DESCRIPTION,\n",
    "    algorithms=REGRESSION_ALGORITHMS\n",
    ")"
   ],
   "metadata": {
    "collapsed": false
   },
   "execution_count": null
  },
  {
   "cell_type": "code",
   "outputs": [],
   "source": [
    "RESULTS_PER_ALGORITHM = []\n",
    "\n",
    "SI = SimpleImputer(missing_values=np.NaN, strategy=\"median\")  # as fillna - mean\n",
    "\n",
    "for algorithm in REGRESSION_ALGORITHMS:\n",
    "    RESULTS_ALGORITHM = []\n",
    "\n",
    "    for i in range(len(X_AXIS)):\n",
    "        # DATA COLLECTION - creating 10 datasets with an increase in the samples\n",
    "        X, y = make_dataset_for_regression(\n",
    "            n_samples=1000, n_features=9, n_informative=4, n_targets=1,\n",
    "            bias=0.0, effective_rank=None, tail_strength=0.5, noise=0.0, seed=2023\n",
    "        )\n",
    "\n",
    "        X = pd.DataFrame(X)\n",
    "\n",
    "        X = pollute_less_important_features(X, y, percentage=X_AXIS[i])\n",
    "\n",
    "        X_CLEAN = SI.fit_transform(X)\n",
    "\n",
    "        # DATA ANALYSIS\n",
    "        RESULTS_ALGORITHM.append(regression(X_CLEAN, y, algorithm, SEED))\n",
    "\n",
    "    RESULTS_PER_ALGORITHM.append(RESULTS_ALGORITHM)\n",
    "\n",
    "plot_results(\n",
    "    x_axis_values=X_AXIS, x_label=X_LABEL, results=RESULTS_PER_ALGORITHM, title=DESCRIPTION,\n",
    "    algorithms=REGRESSION_ALGORITHMS, cleaned_data=True\n",
    ")"
   ],
   "metadata": {
    "collapsed": false
   }
  },
  {
   "cell_type": "markdown",
   "source": [
    "## Experiment 9. Completeness - Different percentages of values MNAR mixing informative and non-informative values"
   ],
   "metadata": {
    "collapsed": false
   }
  },
  {
   "cell_type": "code",
   "outputs": [],
   "source": [
    "DESCRIPTION = 'Completeness - Different percentages of values MNAR mixing informative and non informative values'\n",
    "X_LABEL = \"Percentage of missing values\"\n",
    "\n",
    "RESULTS_PER_ALGORITHM = []\n",
    "X_AXIS = [n * 0.05 for n in range(1, 11)]\n",
    "\n",
    "for algorithm in REGRESSION_ALGORITHMS:\n",
    "    RESULTS_ALGORITHM = []\n",
    "\n",
    "    for i in range(len(X_AXIS)):\n",
    "        # DATA COLLECTION - creating 10 datasets with an increase in the samples\n",
    "        X, y = make_dataset_for_regression(\n",
    "            n_samples=1000, n_features=9, n_informative=4, n_targets=1,\n",
    "            bias=0.0, effective_rank=None, tail_strength=0.5, noise=0.0, seed=2023\n",
    "        )\n",
    "\n",
    "        X = pd.DataFrame(X)\n",
    "\n",
    "        X = pollute_less_important_features(X, y, percentage=X_AXIS[i])\n",
    "        X = pollute_most_important_features(X, y, percentage=X_AXIS[i])\n",
    "\n",
    "        # DATA ANALYSIS\n",
    "        RESULTS_ALGORITHM.append(regression(X, y, algorithm, SEED))\n",
    "\n",
    "    RESULTS_PER_ALGORITHM.append(RESULTS_ALGORITHM)\n",
    "\n",
    "plot_results(\n",
    "    x_axis_values=X_AXIS, x_label=X_LABEL, results=RESULTS_PER_ALGORITHM, title=DESCRIPTION,\n",
    "    algorithms=REGRESSION_ALGORITHMS\n",
    ")"
   ],
   "metadata": {
    "collapsed": false
   },
   "execution_count": null
  },
  {
   "cell_type": "code",
   "outputs": [],
   "source": [
    "RESULTS_PER_ALGORITHM = []\n",
    "\n",
    "SI = SimpleImputer(missing_values=np.NaN, strategy=\"median\")  # as fillna - mean\n",
    "\n",
    "for algorithm in REGRESSION_ALGORITHMS:\n",
    "    RESULTS_ALGORITHM = []\n",
    "\n",
    "    for i in range(len(X_AXIS)):\n",
    "        # DATA COLLECTION - creating 10 datasets with an increase in the samples\n",
    "        X, y = make_dataset_for_regression(\n",
    "            n_samples=1000, n_features=9, n_informative=4, n_targets=1,\n",
    "            bias=0.0, effective_rank=None, tail_strength=0.5, noise=0.0, seed=2023\n",
    "        )\n",
    "\n",
    "        X = pd.DataFrame(X)\n",
    "\n",
    "        X = pollute_less_important_features(X, y, percentage=X_AXIS[i])\n",
    "        X = pollute_most_important_features(X, y, percentage=X_AXIS[i])\n",
    "\n",
    "        X_CLEAN = SI.fit_transform(X)\n",
    "\n",
    "        # DATA ANALYSIS\n",
    "        RESULTS_ALGORITHM.append(regression(X_CLEAN, y, algorithm, SEED))\n",
    "\n",
    "    RESULTS_PER_ALGORITHM.append(RESULTS_ALGORITHM)\n",
    "\n",
    "plot_results(\n",
    "    x_axis_values=X_AXIS, x_label=X_LABEL, results=RESULTS_PER_ALGORITHM, title=DESCRIPTION,\n",
    "    algorithms=REGRESSION_ALGORITHMS, cleaned_data=True\n",
    ")"
   ],
   "metadata": {
    "collapsed": false
   },
   "execution_count": null
  },
  {
   "cell_type": "markdown",
   "source": [
    "## Experiment 10. Completeness - Different percentages combination of values MCAR combined with MNAR on different features"
   ],
   "metadata": {
    "collapsed": false
   }
  },
  {
   "cell_type": "code",
   "outputs": [],
   "source": [
    "DESCRIPTION = 'Completeness - Different percentages combination of values MCAR combined with MNAR on different features'\n",
    "X_LABEL = \"Percentage of missing values\"\n",
    "\n",
    "RESULTS_PER_ALGORITHM = []\n",
    "X_AXIS = [n * 0.05 for n in range(1, 11)]\n",
    "\n",
    "for algorithm in REGRESSION_ALGORITHMS:\n",
    "    RESULTS_ALGORITHM = []\n",
    "    MNAR_feature = 0\n",
    "\n",
    "    for i in range(len(X_AXIS)):\n",
    "        # DATA COLLECTION - creating 10 datasets with an increase in the samples\n",
    "        X, y = make_dataset_for_regression(\n",
    "            n_samples=1000, n_features=10, n_informative=10, n_targets=1,\n",
    "            bias=0.0, effective_rank=None, tail_strength=0.5, noise=0.0, seed=2023\n",
    "        )\n",
    "\n",
    "        X = pd.DataFrame(X)\n",
    "        \n",
    "        X = pollute_data_mcar(X, percent_incomplete=X_AXIS[i])\n",
    "        X = pollute_data_mnar(X, MNAR_feature)\n",
    "        MNAR_feature += 1\n",
    "\n",
    "\n",
    "        # DATA ANALYSIS\n",
    "        RESULTS_ALGORITHM.append(regression(X, y, algorithm, SEED))\n",
    "\n",
    "    RESULTS_PER_ALGORITHM.append(RESULTS_ALGORITHM)\n",
    "\n",
    "plot_results(\n",
    "    x_axis_values=X_AXIS, x_label=X_LABEL, results=RESULTS_PER_ALGORITHM, title=DESCRIPTION,\n",
    "    algorithms=REGRESSION_ALGORITHMS\n",
    ")"
   ],
   "metadata": {
    "collapsed": false
   },
   "execution_count": null
  },
  {
   "cell_type": "code",
   "outputs": [],
   "source": [
    "RESULTS_PER_ALGORITHM = []\n",
    "\n",
    "SI = SimpleImputer(missing_values=np.NaN, strategy=\"median\")  # as fillna - mean\n",
    "\n",
    "for algorithm in REGRESSION_ALGORITHMS:\n",
    "    RESULTS_ALGORITHM = []\n",
    "    MNAR_feature = 0\n",
    "\n",
    "    for i in range(len(X_AXIS)):\n",
    "        # DATA COLLECTION - creating 10 datasets with an increase in the samples\n",
    "        X, y = make_dataset_for_regression(\n",
    "            n_samples=1000, n_features=10, n_informative=10, n_targets=1,\n",
    "            bias=0.0, effective_rank=None, tail_strength=0.5, noise=0.0, seed=2023\n",
    "        )\n",
    "\n",
    "        X = pd.DataFrame(X)\n",
    "\n",
    "        X = pollute_data_mcar(X, percent_incomplete=X_AXIS[i])\n",
    "        X = pollute_data_mnar(X, MNAR_feature)\n",
    "        MNAR_feature += 1\n",
    "\n",
    "        X_CLEAN = SI.fit_transform(X)\n",
    "\n",
    "        # DATA ANALYSIS\n",
    "        RESULTS_ALGORITHM.append(regression(X_CLEAN, y, algorithm, SEED))\n",
    "\n",
    "    RESULTS_PER_ALGORITHM.append(RESULTS_ALGORITHM)\n",
    "\n",
    "plot_results(\n",
    "    x_axis_values=X_AXIS, x_label=X_LABEL, results=RESULTS_PER_ALGORITHM, title=DESCRIPTION,\n",
    "    algorithms=REGRESSION_ALGORITHMS, cleaned_data=True\n",
    ")"
   ],
   "metadata": {
    "collapsed": false
   },
   "execution_count": null
  },
  {
   "cell_type": "markdown",
   "source": [
    "# DISTINCTNESS"
   ],
   "metadata": {
    "collapsed": false
   }
  },
  {
   "cell_type": "markdown",
   "source": [
    "## Experiment 1: Distinctness - Mid-high distinctness"
   ],
   "metadata": {
    "collapsed": false
   }
  },
  {
   "cell_type": "code",
   "outputs": [],
   "source": [
    "DESCRIPTION = 'Distinctness - Mid-high distinctness'\n",
    "X_LABEL = \"Percentage of not distinct values\"\n",
    "\n",
    "RESULTS_PER_ALGORITHM = []\n",
    "X_AXIS = [n * 0.05 for n in range(0, 11)]\n",
    "\n",
    "for algorithm in REGRESSION_ALGORITHMS:\n",
    "    RESULTS_ALGORITHM = []\n",
    "\n",
    "    for i in range(len(X_AXIS)):\n",
    "        # DATA COLLECTION - creating 10 datasets with an increase in the samples\n",
    "        X, y = make_dataset_for_regression(\n",
    "            n_samples=1000, n_features=3, n_informative=3, n_targets=1,\n",
    "            bias=0.0, effective_rank=None, tail_strength=0.5, noise=0.0, seed=2023\n",
    "        )\n",
    "\n",
    "        X = pd.DataFrame(X)\n",
    "\n",
    "        X = introduce_distinctness_to_dataframe(X, X_AXIS[i])\n",
    "\n",
    "        # DATA ANALYSIS\n",
    "        RESULTS_ALGORITHM.append(regression(X, y, algorithm, SEED))\n",
    "\n",
    "    RESULTS_PER_ALGORITHM.append(RESULTS_ALGORITHM)\n",
    "\n",
    "plot_results(\n",
    "    x_axis_values=X_AXIS, x_label=X_LABEL, results=RESULTS_PER_ALGORITHM, title=DESCRIPTION,\n",
    "    algorithms=REGRESSION_ALGORITHMS\n",
    ")"
   ],
   "metadata": {
    "collapsed": false
   },
   "execution_count": null
  },
  {
   "cell_type": "markdown",
   "source": [
    "## Experiment 2: Distinctness - Mid-low distinctness"
   ],
   "metadata": {
    "collapsed": false
   }
  },
  {
   "cell_type": "code",
   "outputs": [],
   "source": [
    "DESCRIPTION = 'Distinctness - Mid-low distinctness'\n",
    "X_LABEL = \"Percentage of not distinct values\"\n",
    "\n",
    "RESULTS_PER_ALGORITHM = []\n",
    "X_AXIS = [n * 0.05 for n in range(10, 21)]\n",
    "\n",
    "for algorithm in REGRESSION_ALGORITHMS:\n",
    "    RESULTS_ALGORITHM = []\n",
    "\n",
    "    for i in range(len(X_AXIS)):\n",
    "        # DATA COLLECTION - creating 10 datasets with an increase in the samples\n",
    "        X, y = make_dataset_for_regression(\n",
    "            n_samples=1000, n_features=3, n_informative=3, n_targets=1,\n",
    "            bias=0.0, effective_rank=None, tail_strength=0.5, noise=0.0, seed=2023\n",
    "        )\n",
    "\n",
    "        X = pd.DataFrame(X)\n",
    "\n",
    "        X = introduce_distinctness_to_dataframe(X, X_AXIS[i])\n",
    "\n",
    "        # DATA ANALYSIS\n",
    "        RESULTS_ALGORITHM.append(regression(X, y, algorithm, SEED))\n",
    "\n",
    "    RESULTS_PER_ALGORITHM.append(RESULTS_ALGORITHM)\n",
    "\n",
    "plot_results(\n",
    "    x_axis_values=X_AXIS, x_label=X_LABEL, results=RESULTS_PER_ALGORITHM, title=DESCRIPTION,\n",
    "    algorithms=REGRESSION_ALGORITHMS\n",
    ")"
   ],
   "metadata": {
    "collapsed": false
   },
   "execution_count": null
  },
  {
   "cell_type": "markdown",
   "source": [
    "## Experiment 3. Distinctness - Different percentages among features"
   ],
   "metadata": {
    "collapsed": false
   }
  },
  {
   "cell_type": "code",
   "outputs": [],
   "source": [
    "DESCRIPTION = 'Distinctness - Different percentages among features'\n",
    "X_LABEL = \"Percentage of not distinct values\"\n",
    "\n",
    "RESULTS_PER_ALGORITHM = []\n",
    "X_AXIS = [n * 0.05 for n in range(1, 11)]\n",
    "\n",
    "for algorithm in REGRESSION_ALGORITHMS:\n",
    "    RESULTS_ALGORITHM = []\n",
    "\n",
    "    for i in range(len(X_AXIS)):\n",
    "        # DATA COLLECTION - creating 10 datasets with an increase in the samples\n",
    "        X, y = make_dataset_for_regression(\n",
    "            n_samples=1000, n_features=9, n_informative=4, n_targets=1,\n",
    "            bias=0.0, effective_rank=None, tail_strength=0.5, noise=0.0, seed=2023\n",
    "        )\n",
    "\n",
    "        X = pd.DataFrame(X)\n",
    "\n",
    "        X = pollute_data_for_distinctness_issues_among_different_features(X, X_AXIS[i])\n",
    "\n",
    "        # DATA ANALYSIS\n",
    "        RESULTS_ALGORITHM.append(regression(X, y, algorithm, SEED))\n",
    "\n",
    "    RESULTS_PER_ALGORITHM.append(RESULTS_ALGORITHM)\n",
    "\n",
    "plot_results(\n",
    "    x_axis_values=X_AXIS, x_label=X_LABEL, results=RESULTS_PER_ALGORITHM, title=DESCRIPTION,\n",
    "    algorithms=REGRESSION_ALGORITHMS\n",
    ")"
   ],
   "metadata": {
    "collapsed": false
   },
   "execution_count": null
  },
  {
   "cell_type": "markdown",
   "source": [
    "## Experiment 4 - Distinctness - Random noise"
   ],
   "metadata": {
    "collapsed": false
   }
  },
  {
   "cell_type": "code",
   "outputs": [],
   "source": [
    "DESCRIPTION = 'Distinctness - Random noise'\n",
    "X_LABEL = \"Percentage of not distinct values\"\n",
    "\n",
    "RESULTS_PER_ALGORITHM = []\n",
    "X_AXIS = [n * 0.00625 for n in range(1, 11)]\n",
    "\n",
    "for algorithm in REGRESSION_ALGORITHMS:\n",
    "    RESULTS_ALGORITHM = []\n",
    "\n",
    "    for i in range(len(X_AXIS)):\n",
    "        # DATA COLLECTION - creating 10 datasets with an increase in the samples\n",
    "        X, y = make_dataset_for_regression(\n",
    "            n_samples=1000, n_features=3, n_informative=3, n_targets=1,\n",
    "            bias=0.0, effective_rank=None, tail_strength=0.5, noise=0.0, seed=2023\n",
    "        )\n",
    "\n",
    "        X = pd.DataFrame(X)\n",
    "\n",
    "        X = pollute_data_with_random_noise(X, X_AXIS[i])\n",
    "\n",
    "        # DATA ANALYSIS\n",
    "        RESULTS_ALGORITHM.append(regression(X, y, algorithm, SEED))\n",
    "\n",
    "    RESULTS_PER_ALGORITHM.append(RESULTS_ALGORITHM)\n",
    "\n",
    "plot_results(\n",
    "    x_axis_values=X_AXIS, x_label=X_LABEL, results=RESULTS_PER_ALGORITHM, title=DESCRIPTION,\n",
    "    algorithms=REGRESSION_ALGORITHMS\n",
    ")"
   ],
   "metadata": {
    "collapsed": false
   },
   "execution_count": null
  },
  {
   "cell_type": "markdown",
   "source": [
    "## Experiment 5 - Distinctness - Categorical variables"
   ],
   "metadata": {
    "collapsed": false
   }
  },
  {
   "cell_type": "code",
   "outputs": [],
   "source": [
    "DESCRIPTION = 'Distinctness - Categorical variables'\n",
    "X_LABEL = \"Number of categorical variables\"\n",
    "\n",
    "RESULTS_PER_ALGORITHM = []\n",
    "X_AXIS = [n for n in range(1, 11)]\n",
    "\n",
    "for algorithm in REGRESSION_ALGORITHMS:\n",
    "    RESULTS_ALGORITHM = []\n",
    "\n",
    "    for i in range(len(X_AXIS)):\n",
    "        # DATA COLLECTION - creating 10 datasets with an increase in the samples\n",
    "        X, y = make_dataset_for_regression(\n",
    "            n_samples=1000, n_features=9, n_informative=4, n_targets=1,\n",
    "            bias=0.0, effective_rank=None, tail_strength=0.5, noise=0.0, seed=2023\n",
    "        )\n",
    "\n",
    "        X = pd.DataFrame(X)\n",
    "\n",
    "        X = pollute_data_with_categorical_variables(X, X_AXIS[i])\n",
    "\n",
    "        # DATA ANALYSIS\n",
    "        RESULTS_ALGORITHM.append(regression(X, y, algorithm, SEED))\n",
    "\n",
    "    RESULTS_PER_ALGORITHM.append(RESULTS_ALGORITHM)\n",
    "\n",
    "plot_results(\n",
    "    x_axis_values=X_AXIS, x_label=X_LABEL, results=RESULTS_PER_ALGORITHM, title=DESCRIPTION,\n",
    "    algorithms=REGRESSION_ALGORITHMS\n",
    ")"
   ],
   "metadata": {
    "collapsed": false
   },
   "execution_count": null
  },
  {
   "cell_type": "markdown",
   "source": [
    "## Experiment 6 - Distinctness - Outliers"
   ],
   "metadata": {
    "collapsed": false
   }
  },
  {
   "cell_type": "code",
   "outputs": [],
   "source": [
    "DESCRIPTION = 'Distinctness - Outliers'\n",
    "X_LABEL = \"Percentage of outliers\"\n",
    "\n",
    "RESULTS_PER_ALGORITHM = []\n",
    "X_AXIS = [n * 0.0125 for n in range(1, 11)]\n",
    "\n",
    "for algorithm in REGRESSION_ALGORITHMS:\n",
    "    RESULTS_ALGORITHM = []\n",
    "\n",
    "    for i in range(len(X_AXIS)):\n",
    "        # DATA COLLECTION - creating 10 datasets with an increase in the samples\n",
    "        X, y = make_dataset_for_regression(\n",
    "            n_samples=1000, n_features=9, n_informative=4, n_targets=1,\n",
    "            bias=0.0, effective_rank=None, tail_strength=0.5, noise=0.0, seed=2023\n",
    "        )\n",
    "\n",
    "        X = pd.DataFrame(X)\n",
    "\n",
    "        X = pollute_data_with_outliers(X, X_AXIS[i])\n",
    "\n",
    "        # DATA ANALYSIS\n",
    "        RESULTS_ALGORITHM.append(regression(X, y, algorithm, SEED))\n",
    "\n",
    "    RESULTS_PER_ALGORITHM.append(RESULTS_ALGORITHM)\n",
    "\n",
    "plot_results(\n",
    "    x_axis_values=X_AXIS, x_label=X_LABEL, results=RESULTS_PER_ALGORITHM, title=DESCRIPTION,\n",
    "    algorithms=REGRESSION_ALGORITHMS\n",
    ")"
   ],
   "metadata": {
    "collapsed": false
   },
   "execution_count": null
  },
  {
   "cell_type": "code",
   "outputs": [],
   "source": [
    "for filename in os.listdir('./Plot'):\n",
    "    if 'Completeness' in filename and filename.endswith('.pdf'):\n",
    "        if not os.path.exists('./Plot/completeness/'):\n",
    "            os.mkdir('./Plot/completeness/')\n",
    "        shutil.move(f'./Plot/{filename}', f'./Plot/completeness/{filename}')\n",
    "    if 'Distinctness' in filename and filename.endswith('.pdf'):\n",
    "        if not os.path.exists('./Plot/distinctness/'):\n",
    "            os.mkdir('./Plot/distinctness/')\n",
    "        shutil.move(f'./Plot/{filename}', f'./Plot/distinctness/{filename}')"
   ],
   "metadata": {
    "collapsed": false
   },
   "execution_count": null
  }
 ]
}
